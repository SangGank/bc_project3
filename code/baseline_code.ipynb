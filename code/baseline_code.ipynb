{
 "cells": [
  {
   "attachments": {},
   "cell_type": "markdown",
   "metadata": {},
   "source": [
    "# Data-Centric NLP 대회: 주제 분류 프로젝트"
   ]
  },
  {
   "attachments": {},
   "cell_type": "markdown",
   "metadata": {},
   "source": [
    "## Load Libraries"
   ]
  },
  {
   "cell_type": "code",
   "execution_count": 2,
   "metadata": {},
   "outputs": [],
   "source": [
    "# # package install \n",
    "# !pip install transformers==4.26.0\n",
    "# !pip install sentencepiece==0.1.96\n",
    "# !pip install numpy\n",
    "# !pip install pandas\n",
    "# !pip install evaluate==0.4.0\n",
    "# !pip install accelerate\n",
    "# !pip install scikit-learn\n",
    "# !pip install ipywidgets\n",
    "# !pip install protobuf==3.15.8\n",
    "# !pip install torch==1.11.0"
   ]
  },
  {
   "cell_type": "code",
   "execution_count": 3,
   "metadata": {},
   "outputs": [],
   "source": [
    "import os\n",
    "import random\n",
    "from tqdm import tqdm\n",
    "import numpy as np\n",
    "import pandas as pd\n",
    "\n",
    "import torch\n",
    "from torch.utils.data import Dataset\n",
    "\n",
    "import evaluate\n",
    "from transformers import AutoModelForSequenceClassification, AutoTokenizer\n",
    "from transformers import DataCollatorWithPadding\n",
    "from transformers import TrainingArguments, Trainer\n",
    "\n",
    "from sklearn.model_selection import train_test_split"
   ]
  },
  {
   "attachments": {},
   "cell_type": "markdown",
   "metadata": {},
   "source": [
    "## Set Hyperparameters"
   ]
  },
  {
   "cell_type": "code",
   "execution_count": 4,
   "metadata": {},
   "outputs": [],
   "source": [
    "SEED = 456\n",
    "random.seed(SEED)\n",
    "np.random.seed(SEED)\n",
    "torch.manual_seed(SEED)\n",
    "torch.cuda.manual_seed(SEED)\n",
    "torch.cuda.manual_seed_all(SEED)"
   ]
  },
  {
   "cell_type": "code",
   "execution_count": 5,
   "metadata": {},
   "outputs": [
    {
     "data": {
      "text/plain": [
       "device(type='cuda')"
      ]
     },
     "execution_count": 5,
     "metadata": {},
     "output_type": "execute_result"
    }
   ],
   "source": [
    "DEVICE = torch.device('cuda') if torch.cuda.is_available() else torch.device('cpu')\n",
    "DEVICE"
   ]
  },
  {
   "cell_type": "code",
   "execution_count": 6,
   "metadata": {},
   "outputs": [],
   "source": [
    "BASE_DIR = os.getcwd()\n",
    "DATA_DIR = os.path.join(BASE_DIR, '../data')\n",
    "OUTPUT_DIR = os.path.join(BASE_DIR, '../output')"
   ]
  },
  {
   "attachments": {},
   "cell_type": "markdown",
   "metadata": {},
   "source": [
    "## Load Tokenizer and Model"
   ]
  },
  {
   "cell_type": "code",
   "execution_count": 7,
   "metadata": {},
   "outputs": [
    {
     "name": "stderr",
     "output_type": "stream",
     "text": [
      "Some weights of the model checkpoint at klue/bert-base were not used when initializing BertForSequenceClassification: ['cls.seq_relationship.bias', 'cls.predictions.transform.LayerNorm.bias', 'cls.predictions.bias', 'cls.predictions.transform.dense.bias', 'cls.predictions.transform.dense.weight', 'cls.seq_relationship.weight', 'cls.predictions.transform.LayerNorm.weight']\n",
      "- This IS expected if you are initializing BertForSequenceClassification from the checkpoint of a model trained on another task or with another architecture (e.g. initializing a BertForSequenceClassification model from a BertForPreTraining model).\n",
      "- This IS NOT expected if you are initializing BertForSequenceClassification from the checkpoint of a model that you expect to be exactly identical (initializing a BertForSequenceClassification model from a BertForSequenceClassification model).\n",
      "Some weights of BertForSequenceClassification were not initialized from the model checkpoint at klue/bert-base and are newly initialized: ['classifier.bias', 'classifier.weight']\n",
      "You should probably TRAIN this model on a down-stream task to be able to use it for predictions and inference.\n"
     ]
    }
   ],
   "source": [
    "model_name = 'klue/bert-base'\n",
    "model = AutoModelForSequenceClassification.from_pretrained(model_name, num_labels=7).to(DEVICE)\n",
    "tokenizer = AutoTokenizer.from_pretrained(model_name)"
   ]
  },
  {
   "attachments": {},
   "cell_type": "markdown",
   "metadata": {},
   "source": [
    "## Define Dataset"
   ]
  },
  {
   "cell_type": "code",
   "execution_count": 8,
   "metadata": {},
   "outputs": [],
   "source": [
    "data = pd.read_csv(os.path.join(DATA_DIR, 'train.csv'))\n",
    "dataset_train, dataset_valid = train_test_split(data, test_size=0.3, stratify=data['target'],random_state=SEED)"
   ]
  },
  {
   "cell_type": "code",
   "execution_count": 9,
   "metadata": {},
   "outputs": [],
   "source": [
    "class BERTDataset(Dataset):\n",
    "    def __init__(self, data, tokenizer):\n",
    "        input_texts = data['text']\n",
    "        targets = data['target']\n",
    "        self.inputs = []\n",
    "        self.labels = []\n",
    "        \n",
    "        for text, label in zip(input_texts, targets):\n",
    "            tokenized_input = tokenizer(text, padding='max_length', truncation=True, return_tensors='pt')\n",
    "            self.inputs.append(tokenized_input)\n",
    "            self.labels.append(torch.tensor(label))\n",
    "    \n",
    "    def __getitem__(self, idx):\n",
    "        return {\n",
    "            'input_ids': self.inputs[idx]['input_ids'].squeeze(0),  \n",
    "            'attention_mask': self.inputs[idx]['attention_mask'].squeeze(0),\n",
    "            'labels': self.labels[idx].squeeze(0)\n",
    "        }\n",
    "    \n",
    "    def __len__(self):\n",
    "        return len(self.labels)"
   ]
  },
  {
   "cell_type": "code",
   "execution_count": 10,
   "metadata": {},
   "outputs": [],
   "source": [
    "data_train = BERTDataset(dataset_train, tokenizer)\n",
    "data_valid = BERTDataset(dataset_valid, tokenizer)"
   ]
  },
  {
   "cell_type": "code",
   "execution_count": 11,
   "metadata": {},
   "outputs": [],
   "source": [
    "data_collator = DataCollatorWithPadding(tokenizer=tokenizer)"
   ]
  },
  {
   "attachments": {},
   "cell_type": "markdown",
   "metadata": {},
   "source": [
    "## Define Metric"
   ]
  },
  {
   "cell_type": "code",
   "execution_count": 12,
   "metadata": {},
   "outputs": [],
   "source": [
    "f1 = evaluate.load('f1')\n",
    "\n",
    "def compute_metrics(eval_pred):\n",
    "    predictions, labels = eval_pred\n",
    "    predictions = np.argmax(predictions, axis=1)\n",
    "    return f1.compute(predictions=predictions, references=labels, average='macro')"
   ]
  },
  {
   "attachments": {},
   "cell_type": "markdown",
   "metadata": {},
   "source": [
    "## Train Model"
   ]
  },
  {
   "cell_type": "code",
   "execution_count": 13,
   "metadata": {},
   "outputs": [],
   "source": [
    "### for wandb setting\n",
    "#os.environ['WANDB_DISABLED'] = 'true'"
   ]
  },
  {
   "cell_type": "code",
   "execution_count": 14,
   "metadata": {},
   "outputs": [],
   "source": [
    "training_args = TrainingArguments(\n",
    "    output_dir=OUTPUT_DIR,\n",
    "    overwrite_output_dir=True,\n",
    "    do_train=True,\n",
    "    do_eval=True,\n",
    "    do_predict=True,\n",
    "    logging_strategy='steps',\n",
    "    evaluation_strategy='steps',\n",
    "    save_strategy='steps',\n",
    "    logging_steps=100,\n",
    "    eval_steps=100,\n",
    "    save_steps=100,\n",
    "    save_total_limit=2,\n",
    "    learning_rate= 2e-05,\n",
    "    adam_beta1 = 0.9,\n",
    "    adam_beta2 = 0.999,\n",
    "    adam_epsilon=1e-08,\n",
    "    weight_decay=0.01,\n",
    "    lr_scheduler_type='linear',\n",
    "    per_device_train_batch_size=4,\n",
    "    per_device_eval_batch_size=4,\n",
    "    num_train_epochs=2,\n",
    "    load_best_model_at_end=True,\n",
    "    metric_for_best_model='eval_f1',\n",
    "    greater_is_better=True,\n",
    "    seed=SEED\n",
    ")"
   ]
  },
  {
   "cell_type": "code",
   "execution_count": 15,
   "metadata": {},
   "outputs": [],
   "source": [
    "trainer = Trainer(\n",
    "    model=model,\n",
    "    args=training_args,\n",
    "    train_dataset=data_train,\n",
    "    eval_dataset=data_valid,\n",
    "    data_collator=data_collator,\n",
    "    compute_metrics=compute_metrics,\n",
    ")"
   ]
  },
  {
   "cell_type": "code",
   "execution_count": 16,
   "metadata": {},
   "outputs": [
    {
     "name": "stderr",
     "output_type": "stream",
     "text": [
      "/opt/conda/lib/python3.8/site-packages/transformers/optimization.py:306: FutureWarning: This implementation of AdamW is deprecated and will be removed in a future version. Use the PyTorch implementation torch.optim.AdamW instead, or set `no_deprecation_warning=True` to disable this warning\n",
      "  warnings.warn(\n",
      "***** Running training *****\n",
      "  Num examples = 4900\n",
      "  Num Epochs = 2\n",
      "  Instantaneous batch size per device = 4\n",
      "  Total train batch size (w. parallel, distributed & accumulation) = 4\n",
      "  Gradient Accumulation steps = 1\n",
      "  Total optimization steps = 2450\n",
      "  Number of trainable parameters = 110622727\n",
      "You're using a BertTokenizerFast tokenizer. Please note that with a fast tokenizer, using the `__call__` method is faster than using a method to encode the text followed by a call to the `pad` method to get a padded encoding.\n"
     ]
    },
    {
     "data": {
      "text/html": [
       "\n",
       "    <div>\n",
       "      \n",
       "      <progress value='2450' max='2450' style='width:300px; height:20px; vertical-align: middle;'></progress>\n",
       "      [2450/2450 16:50, Epoch 2/2]\n",
       "    </div>\n",
       "    <table border=\"1\" class=\"dataframe\">\n",
       "  <thead>\n",
       " <tr style=\"text-align: left;\">\n",
       "      <th>Step</th>\n",
       "      <th>Training Loss</th>\n",
       "      <th>Validation Loss</th>\n",
       "      <th>F1</th>\n",
       "    </tr>\n",
       "  </thead>\n",
       "  <tbody>\n",
       "    <tr>\n",
       "      <td>100</td>\n",
       "      <td>1.452300</td>\n",
       "      <td>0.901783</td>\n",
       "      <td>0.763332</td>\n",
       "    </tr>\n",
       "    <tr>\n",
       "      <td>200</td>\n",
       "      <td>0.816900</td>\n",
       "      <td>0.602538</td>\n",
       "      <td>0.827165</td>\n",
       "    </tr>\n",
       "    <tr>\n",
       "      <td>300</td>\n",
       "      <td>0.666200</td>\n",
       "      <td>0.615669</td>\n",
       "      <td>0.824471</td>\n",
       "    </tr>\n",
       "    <tr>\n",
       "      <td>400</td>\n",
       "      <td>0.781400</td>\n",
       "      <td>0.598522</td>\n",
       "      <td>0.832271</td>\n",
       "    </tr>\n",
       "    <tr>\n",
       "      <td>500</td>\n",
       "      <td>0.730000</td>\n",
       "      <td>0.624135</td>\n",
       "      <td>0.831306</td>\n",
       "    </tr>\n",
       "    <tr>\n",
       "      <td>600</td>\n",
       "      <td>0.679000</td>\n",
       "      <td>0.677669</td>\n",
       "      <td>0.827611</td>\n",
       "    </tr>\n",
       "    <tr>\n",
       "      <td>700</td>\n",
       "      <td>0.618400</td>\n",
       "      <td>0.690497</td>\n",
       "      <td>0.840949</td>\n",
       "    </tr>\n",
       "    <tr>\n",
       "      <td>800</td>\n",
       "      <td>0.700300</td>\n",
       "      <td>0.673111</td>\n",
       "      <td>0.838974</td>\n",
       "    </tr>\n",
       "    <tr>\n",
       "      <td>900</td>\n",
       "      <td>0.687100</td>\n",
       "      <td>0.709704</td>\n",
       "      <td>0.836225</td>\n",
       "    </tr>\n",
       "    <tr>\n",
       "      <td>1000</td>\n",
       "      <td>0.703800</td>\n",
       "      <td>0.687480</td>\n",
       "      <td>0.839920</td>\n",
       "    </tr>\n",
       "    <tr>\n",
       "      <td>1100</td>\n",
       "      <td>0.803500</td>\n",
       "      <td>0.658530</td>\n",
       "      <td>0.850274</td>\n",
       "    </tr>\n",
       "    <tr>\n",
       "      <td>1200</td>\n",
       "      <td>0.741600</td>\n",
       "      <td>0.684225</td>\n",
       "      <td>0.839624</td>\n",
       "    </tr>\n",
       "    <tr>\n",
       "      <td>1300</td>\n",
       "      <td>0.555700</td>\n",
       "      <td>0.686880</td>\n",
       "      <td>0.843638</td>\n",
       "    </tr>\n",
       "    <tr>\n",
       "      <td>1400</td>\n",
       "      <td>0.620600</td>\n",
       "      <td>0.665395</td>\n",
       "      <td>0.842836</td>\n",
       "    </tr>\n",
       "    <tr>\n",
       "      <td>1500</td>\n",
       "      <td>0.393900</td>\n",
       "      <td>0.747469</td>\n",
       "      <td>0.839075</td>\n",
       "    </tr>\n",
       "    <tr>\n",
       "      <td>1600</td>\n",
       "      <td>0.502000</td>\n",
       "      <td>0.728242</td>\n",
       "      <td>0.845926</td>\n",
       "    </tr>\n",
       "    <tr>\n",
       "      <td>1700</td>\n",
       "      <td>0.572700</td>\n",
       "      <td>0.741855</td>\n",
       "      <td>0.843759</td>\n",
       "    </tr>\n",
       "    <tr>\n",
       "      <td>1800</td>\n",
       "      <td>0.497300</td>\n",
       "      <td>0.730137</td>\n",
       "      <td>0.845210</td>\n",
       "    </tr>\n",
       "    <tr>\n",
       "      <td>1900</td>\n",
       "      <td>0.452800</td>\n",
       "      <td>0.744921</td>\n",
       "      <td>0.842542</td>\n",
       "    </tr>\n",
       "    <tr>\n",
       "      <td>2000</td>\n",
       "      <td>0.467400</td>\n",
       "      <td>0.731485</td>\n",
       "      <td>0.848161</td>\n",
       "    </tr>\n",
       "    <tr>\n",
       "      <td>2100</td>\n",
       "      <td>0.455000</td>\n",
       "      <td>0.726522</td>\n",
       "      <td>0.853182</td>\n",
       "    </tr>\n",
       "    <tr>\n",
       "      <td>2200</td>\n",
       "      <td>0.516700</td>\n",
       "      <td>0.723783</td>\n",
       "      <td>0.849776</td>\n",
       "    </tr>\n",
       "    <tr>\n",
       "      <td>2300</td>\n",
       "      <td>0.535500</td>\n",
       "      <td>0.733190</td>\n",
       "      <td>0.850872</td>\n",
       "    </tr>\n",
       "    <tr>\n",
       "      <td>2400</td>\n",
       "      <td>0.572000</td>\n",
       "      <td>0.729680</td>\n",
       "      <td>0.851388</td>\n",
       "    </tr>\n",
       "  </tbody>\n",
       "</table><p>"
      ],
      "text/plain": [
       "<IPython.core.display.HTML object>"
      ]
     },
     "metadata": {},
     "output_type": "display_data"
    },
    {
     "name": "stderr",
     "output_type": "stream",
     "text": [
      "***** Running Evaluation *****\n",
      "  Num examples = 2100\n",
      "  Batch size = 4\n",
      "Saving model checkpoint to /data/ephemeral/bc_project3/code/../output/checkpoint-100\n",
      "Configuration saved in /data/ephemeral/bc_project3/code/../output/checkpoint-100/config.json\n",
      "Model weights saved in /data/ephemeral/bc_project3/code/../output/checkpoint-100/pytorch_model.bin\n",
      "***** Running Evaluation *****\n",
      "  Num examples = 2100\n",
      "  Batch size = 4\n",
      "Saving model checkpoint to /data/ephemeral/bc_project3/code/../output/checkpoint-200\n",
      "Configuration saved in /data/ephemeral/bc_project3/code/../output/checkpoint-200/config.json\n",
      "Model weights saved in /data/ephemeral/bc_project3/code/../output/checkpoint-200/pytorch_model.bin\n",
      "***** Running Evaluation *****\n",
      "  Num examples = 2100\n",
      "  Batch size = 4\n",
      "Saving model checkpoint to /data/ephemeral/bc_project3/code/../output/checkpoint-300\n",
      "Configuration saved in /data/ephemeral/bc_project3/code/../output/checkpoint-300/config.json\n",
      "Model weights saved in /data/ephemeral/bc_project3/code/../output/checkpoint-300/pytorch_model.bin\n",
      "Deleting older checkpoint [/data/ephemeral/bc_project3/code/../output/checkpoint-100] due to args.save_total_limit\n",
      "***** Running Evaluation *****\n",
      "  Num examples = 2100\n",
      "  Batch size = 4\n",
      "Saving model checkpoint to /data/ephemeral/bc_project3/code/../output/checkpoint-400\n",
      "Configuration saved in /data/ephemeral/bc_project3/code/../output/checkpoint-400/config.json\n",
      "Model weights saved in /data/ephemeral/bc_project3/code/../output/checkpoint-400/pytorch_model.bin\n",
      "Deleting older checkpoint [/data/ephemeral/bc_project3/code/../output/checkpoint-200] due to args.save_total_limit\n",
      "***** Running Evaluation *****\n",
      "  Num examples = 2100\n",
      "  Batch size = 4\n",
      "Saving model checkpoint to /data/ephemeral/bc_project3/code/../output/checkpoint-500\n",
      "Configuration saved in /data/ephemeral/bc_project3/code/../output/checkpoint-500/config.json\n",
      "Model weights saved in /data/ephemeral/bc_project3/code/../output/checkpoint-500/pytorch_model.bin\n",
      "Deleting older checkpoint [/data/ephemeral/bc_project3/code/../output/checkpoint-300] due to args.save_total_limit\n",
      "***** Running Evaluation *****\n",
      "  Num examples = 2100\n",
      "  Batch size = 4\n",
      "Saving model checkpoint to /data/ephemeral/bc_project3/code/../output/checkpoint-600\n",
      "Configuration saved in /data/ephemeral/bc_project3/code/../output/checkpoint-600/config.json\n",
      "Model weights saved in /data/ephemeral/bc_project3/code/../output/checkpoint-600/pytorch_model.bin\n",
      "Deleting older checkpoint [/data/ephemeral/bc_project3/code/../output/checkpoint-500] due to args.save_total_limit\n",
      "***** Running Evaluation *****\n",
      "  Num examples = 2100\n",
      "  Batch size = 4\n",
      "Saving model checkpoint to /data/ephemeral/bc_project3/code/../output/checkpoint-700\n",
      "Configuration saved in /data/ephemeral/bc_project3/code/../output/checkpoint-700/config.json\n",
      "Model weights saved in /data/ephemeral/bc_project3/code/../output/checkpoint-700/pytorch_model.bin\n",
      "Deleting older checkpoint [/data/ephemeral/bc_project3/code/../output/checkpoint-400] due to args.save_total_limit\n",
      "***** Running Evaluation *****\n",
      "  Num examples = 2100\n",
      "  Batch size = 4\n",
      "Saving model checkpoint to /data/ephemeral/bc_project3/code/../output/checkpoint-800\n",
      "Configuration saved in /data/ephemeral/bc_project3/code/../output/checkpoint-800/config.json\n",
      "Model weights saved in /data/ephemeral/bc_project3/code/../output/checkpoint-800/pytorch_model.bin\n",
      "Deleting older checkpoint [/data/ephemeral/bc_project3/code/../output/checkpoint-600] due to args.save_total_limit\n",
      "***** Running Evaluation *****\n",
      "  Num examples = 2100\n",
      "  Batch size = 4\n",
      "Saving model checkpoint to /data/ephemeral/bc_project3/code/../output/checkpoint-900\n",
      "Configuration saved in /data/ephemeral/bc_project3/code/../output/checkpoint-900/config.json\n",
      "Model weights saved in /data/ephemeral/bc_project3/code/../output/checkpoint-900/pytorch_model.bin\n",
      "Deleting older checkpoint [/data/ephemeral/bc_project3/code/../output/checkpoint-800] due to args.save_total_limit\n",
      "***** Running Evaluation *****\n",
      "  Num examples = 2100\n",
      "  Batch size = 4\n",
      "Saving model checkpoint to /data/ephemeral/bc_project3/code/../output/checkpoint-1000\n",
      "Configuration saved in /data/ephemeral/bc_project3/code/../output/checkpoint-1000/config.json\n",
      "Model weights saved in /data/ephemeral/bc_project3/code/../output/checkpoint-1000/pytorch_model.bin\n",
      "Deleting older checkpoint [/data/ephemeral/bc_project3/code/../output/checkpoint-900] due to args.save_total_limit\n",
      "***** Running Evaluation *****\n",
      "  Num examples = 2100\n",
      "  Batch size = 4\n",
      "Saving model checkpoint to /data/ephemeral/bc_project3/code/../output/checkpoint-1100\n",
      "Configuration saved in /data/ephemeral/bc_project3/code/../output/checkpoint-1100/config.json\n",
      "Model weights saved in /data/ephemeral/bc_project3/code/../output/checkpoint-1100/pytorch_model.bin\n",
      "Deleting older checkpoint [/data/ephemeral/bc_project3/code/../output/checkpoint-700] due to args.save_total_limit\n",
      "***** Running Evaluation *****\n",
      "  Num examples = 2100\n",
      "  Batch size = 4\n",
      "Saving model checkpoint to /data/ephemeral/bc_project3/code/../output/checkpoint-1200\n",
      "Configuration saved in /data/ephemeral/bc_project3/code/../output/checkpoint-1200/config.json\n",
      "Model weights saved in /data/ephemeral/bc_project3/code/../output/checkpoint-1200/pytorch_model.bin\n",
      "Deleting older checkpoint [/data/ephemeral/bc_project3/code/../output/checkpoint-1000] due to args.save_total_limit\n",
      "***** Running Evaluation *****\n",
      "  Num examples = 2100\n",
      "  Batch size = 4\n",
      "Saving model checkpoint to /data/ephemeral/bc_project3/code/../output/checkpoint-1300\n",
      "Configuration saved in /data/ephemeral/bc_project3/code/../output/checkpoint-1300/config.json\n",
      "Model weights saved in /data/ephemeral/bc_project3/code/../output/checkpoint-1300/pytorch_model.bin\n",
      "Deleting older checkpoint [/data/ephemeral/bc_project3/code/../output/checkpoint-1200] due to args.save_total_limit\n",
      "***** Running Evaluation *****\n",
      "  Num examples = 2100\n",
      "  Batch size = 4\n",
      "Saving model checkpoint to /data/ephemeral/bc_project3/code/../output/checkpoint-1400\n",
      "Configuration saved in /data/ephemeral/bc_project3/code/../output/checkpoint-1400/config.json\n",
      "Model weights saved in /data/ephemeral/bc_project3/code/../output/checkpoint-1400/pytorch_model.bin\n",
      "Deleting older checkpoint [/data/ephemeral/bc_project3/code/../output/checkpoint-1300] due to args.save_total_limit\n",
      "***** Running Evaluation *****\n",
      "  Num examples = 2100\n",
      "  Batch size = 4\n",
      "Saving model checkpoint to /data/ephemeral/bc_project3/code/../output/checkpoint-1500\n",
      "Configuration saved in /data/ephemeral/bc_project3/code/../output/checkpoint-1500/config.json\n",
      "Model weights saved in /data/ephemeral/bc_project3/code/../output/checkpoint-1500/pytorch_model.bin\n",
      "Deleting older checkpoint [/data/ephemeral/bc_project3/code/../output/checkpoint-1400] due to args.save_total_limit\n",
      "***** Running Evaluation *****\n",
      "  Num examples = 2100\n",
      "  Batch size = 4\n",
      "Saving model checkpoint to /data/ephemeral/bc_project3/code/../output/checkpoint-1600\n",
      "Configuration saved in /data/ephemeral/bc_project3/code/../output/checkpoint-1600/config.json\n",
      "Model weights saved in /data/ephemeral/bc_project3/code/../output/checkpoint-1600/pytorch_model.bin\n",
      "Deleting older checkpoint [/data/ephemeral/bc_project3/code/../output/checkpoint-1500] due to args.save_total_limit\n",
      "***** Running Evaluation *****\n",
      "  Num examples = 2100\n",
      "  Batch size = 4\n",
      "Saving model checkpoint to /data/ephemeral/bc_project3/code/../output/checkpoint-1700\n",
      "Configuration saved in /data/ephemeral/bc_project3/code/../output/checkpoint-1700/config.json\n",
      "Model weights saved in /data/ephemeral/bc_project3/code/../output/checkpoint-1700/pytorch_model.bin\n",
      "Deleting older checkpoint [/data/ephemeral/bc_project3/code/../output/checkpoint-1600] due to args.save_total_limit\n",
      "***** Running Evaluation *****\n",
      "  Num examples = 2100\n",
      "  Batch size = 4\n",
      "Saving model checkpoint to /data/ephemeral/bc_project3/code/../output/checkpoint-1800\n",
      "Configuration saved in /data/ephemeral/bc_project3/code/../output/checkpoint-1800/config.json\n",
      "Model weights saved in /data/ephemeral/bc_project3/code/../output/checkpoint-1800/pytorch_model.bin\n",
      "Deleting older checkpoint [/data/ephemeral/bc_project3/code/../output/checkpoint-1700] due to args.save_total_limit\n",
      "***** Running Evaluation *****\n",
      "  Num examples = 2100\n",
      "  Batch size = 4\n",
      "Saving model checkpoint to /data/ephemeral/bc_project3/code/../output/checkpoint-1900\n",
      "Configuration saved in /data/ephemeral/bc_project3/code/../output/checkpoint-1900/config.json\n",
      "Model weights saved in /data/ephemeral/bc_project3/code/../output/checkpoint-1900/pytorch_model.bin\n",
      "Deleting older checkpoint [/data/ephemeral/bc_project3/code/../output/checkpoint-1800] due to args.save_total_limit\n",
      "***** Running Evaluation *****\n",
      "  Num examples = 2100\n",
      "  Batch size = 4\n",
      "Saving model checkpoint to /data/ephemeral/bc_project3/code/../output/checkpoint-2000\n",
      "Configuration saved in /data/ephemeral/bc_project3/code/../output/checkpoint-2000/config.json\n",
      "Model weights saved in /data/ephemeral/bc_project3/code/../output/checkpoint-2000/pytorch_model.bin\n",
      "Deleting older checkpoint [/data/ephemeral/bc_project3/code/../output/checkpoint-1900] due to args.save_total_limit\n",
      "***** Running Evaluation *****\n",
      "  Num examples = 2100\n",
      "  Batch size = 4\n",
      "Saving model checkpoint to /data/ephemeral/bc_project3/code/../output/checkpoint-2100\n",
      "Configuration saved in /data/ephemeral/bc_project3/code/../output/checkpoint-2100/config.json\n",
      "Model weights saved in /data/ephemeral/bc_project3/code/../output/checkpoint-2100/pytorch_model.bin\n",
      "Deleting older checkpoint [/data/ephemeral/bc_project3/code/../output/checkpoint-1100] due to args.save_total_limit\n",
      "***** Running Evaluation *****\n",
      "  Num examples = 2100\n",
      "  Batch size = 4\n",
      "Saving model checkpoint to /data/ephemeral/bc_project3/code/../output/checkpoint-2200\n",
      "Configuration saved in /data/ephemeral/bc_project3/code/../output/checkpoint-2200/config.json\n",
      "Model weights saved in /data/ephemeral/bc_project3/code/../output/checkpoint-2200/pytorch_model.bin\n",
      "Deleting older checkpoint [/data/ephemeral/bc_project3/code/../output/checkpoint-2000] due to args.save_total_limit\n",
      "***** Running Evaluation *****\n",
      "  Num examples = 2100\n",
      "  Batch size = 4\n",
      "Saving model checkpoint to /data/ephemeral/bc_project3/code/../output/checkpoint-2300\n",
      "Configuration saved in /data/ephemeral/bc_project3/code/../output/checkpoint-2300/config.json\n",
      "Model weights saved in /data/ephemeral/bc_project3/code/../output/checkpoint-2300/pytorch_model.bin\n",
      "Deleting older checkpoint [/data/ephemeral/bc_project3/code/../output/checkpoint-2200] due to args.save_total_limit\n",
      "***** Running Evaluation *****\n",
      "  Num examples = 2100\n",
      "  Batch size = 4\n",
      "Saving model checkpoint to /data/ephemeral/bc_project3/code/../output/checkpoint-2400\n",
      "Configuration saved in /data/ephemeral/bc_project3/code/../output/checkpoint-2400/config.json\n",
      "Model weights saved in /data/ephemeral/bc_project3/code/../output/checkpoint-2400/pytorch_model.bin\n",
      "Deleting older checkpoint [/data/ephemeral/bc_project3/code/../output/checkpoint-2300] due to args.save_total_limit\n",
      "\n",
      "\n",
      "Training completed. Do not forget to share your model on huggingface.co/models =)\n",
      "\n",
      "\n",
      "Loading best model from /data/ephemeral/bc_project3/code/../output/checkpoint-2100 (score: 0.8531816981622189).\n"
     ]
    },
    {
     "data": {
      "text/plain": [
       "TrainOutput(global_step=2450, training_loss=0.640074984102833, metrics={'train_runtime': 1011.083, 'train_samples_per_second': 9.693, 'train_steps_per_second': 2.423, 'total_flos': 2578604098560000.0, 'train_loss': 0.640074984102833, 'epoch': 2.0})"
      ]
     },
     "execution_count": 16,
     "metadata": {},
     "output_type": "execute_result"
    }
   ],
   "source": [
    "trainer.train()"
   ]
  },
  {
   "attachments": {},
   "cell_type": "markdown",
   "metadata": {},
   "source": [
    "## Evaluate Model"
   ]
  },
  {
   "cell_type": "code",
   "execution_count": 17,
   "metadata": {},
   "outputs": [],
   "source": [
    "dataset_test = pd.read_csv(os.path.join(DATA_DIR, 'test.csv'))"
   ]
  },
  {
   "cell_type": "code",
   "execution_count": 18,
   "metadata": {},
   "outputs": [
    {
     "name": "stderr",
     "output_type": "stream",
     "text": [
      "47785it [07:02, 113.21it/s]\n"
     ]
    }
   ],
   "source": [
    "model.eval()\n",
    "preds = []\n",
    "for idx, sample in tqdm(dataset_test.iterrows()):\n",
    "    inputs = tokenizer(sample['text'], return_tensors=\"pt\").to(DEVICE)\n",
    "    with torch.no_grad():\n",
    "        logits = model(**inputs).logits\n",
    "        pred = torch.argmax(torch.nn.Softmax(dim=1)(logits), dim=1).cpu().numpy()\n",
    "        preds.extend(pred)"
   ]
  },
  {
   "cell_type": "code",
   "execution_count": 19,
   "metadata": {},
   "outputs": [],
   "source": [
    "dataset_test['target'] = preds\n",
    "dataset_test.to_csv(os.path.join(BASE_DIR, 'output.csv'), index=False)"
   ]
  },
  {
   "cell_type": "code",
   "execution_count": 20,
   "metadata": {},
   "outputs": [
    {
     "data": {
      "text/html": [
       "<div>\n",
       "<style scoped>\n",
       "    .dataframe tbody tr th:only-of-type {\n",
       "        vertical-align: middle;\n",
       "    }\n",
       "\n",
       "    .dataframe tbody tr th {\n",
       "        vertical-align: top;\n",
       "    }\n",
       "\n",
       "    .dataframe thead th {\n",
       "        text-align: right;\n",
       "    }\n",
       "</style>\n",
       "<table border=\"1\" class=\"dataframe\">\n",
       "  <thead>\n",
       "    <tr style=\"text-align: right;\">\n",
       "      <th></th>\n",
       "      <th>ID</th>\n",
       "      <th>text</th>\n",
       "      <th>url</th>\n",
       "      <th>date</th>\n",
       "      <th>target</th>\n",
       "    </tr>\n",
       "  </thead>\n",
       "  <tbody>\n",
       "    <tr>\n",
       "      <th>0</th>\n",
       "      <td>ynat-v1_dev_00000</td>\n",
       "      <td>제임스 부상 레이커스 성탄매치서 골든스테이트에 완승종합</td>\n",
       "      <td>https://sports.news.naver.com/news.nhn?oid=001...</td>\n",
       "      <td>2018.12.26 15:16</td>\n",
       "      <td>5</td>\n",
       "    </tr>\n",
       "    <tr>\n",
       "      <th>1</th>\n",
       "      <td>ynat-v1_dev_00001</td>\n",
       "      <td>프랑스 극우정치인 르펜 노란 조끼 덕에 승승장구</td>\n",
       "      <td>https://news.naver.com/main/read.nhn?mode=LS2D...</td>\n",
       "      <td>2019.01.17. 오후 8:04</td>\n",
       "      <td>4</td>\n",
       "    </tr>\n",
       "    <tr>\n",
       "      <th>2</th>\n",
       "      <td>ynat-v1_dev_00002</td>\n",
       "      <td>대통령개헌안 ⑥토지공개념 명시…개발이익환수·부동산과세 강화 전망종합</td>\n",
       "      <td>https://news.naver.com/main/read.nhn?mode=LS2D...</td>\n",
       "      <td>2018.03.21. 오후 1:09</td>\n",
       "      <td>6</td>\n",
       "    </tr>\n",
       "    <tr>\n",
       "      <th>3</th>\n",
       "      <td>ynat-v1_dev_00003</td>\n",
       "      <td>의사 살해 환자 경찰서 나와 법원으로</td>\n",
       "      <td>https://news.naver.com/main/read.nhn?mode=LS2D...</td>\n",
       "      <td>2019.01.02. 오후 2:47</td>\n",
       "      <td>2</td>\n",
       "    </tr>\n",
       "    <tr>\n",
       "      <th>4</th>\n",
       "      <td>ynat-v1_dev_00004</td>\n",
       "      <td>이란 최고지도자 유럽 맹비난…핵합의 미이행 뻔뻔하고 오만</td>\n",
       "      <td>https://news.naver.com/main/read.nhn?mode=LS2D...</td>\n",
       "      <td>2019.07.16. 오후 8:11</td>\n",
       "      <td>4</td>\n",
       "    </tr>\n",
       "  </tbody>\n",
       "</table>\n",
       "</div>"
      ],
      "text/plain": [
       "                  ID                                   text   \n",
       "0  ynat-v1_dev_00000         제임스 부상 레이커스 성탄매치서 골든스테이트에 완승종합  \\\n",
       "1  ynat-v1_dev_00001             프랑스 극우정치인 르펜 노란 조끼 덕에 승승장구   \n",
       "2  ynat-v1_dev_00002  대통령개헌안 ⑥토지공개념 명시…개발이익환수·부동산과세 강화 전망종합   \n",
       "3  ynat-v1_dev_00003                   의사 살해 환자 경찰서 나와 법원으로   \n",
       "4  ynat-v1_dev_00004        이란 최고지도자 유럽 맹비난…핵합의 미이행 뻔뻔하고 오만   \n",
       "\n",
       "                                                 url                 date   \n",
       "0  https://sports.news.naver.com/news.nhn?oid=001...     2018.12.26 15:16  \\\n",
       "1  https://news.naver.com/main/read.nhn?mode=LS2D...  2019.01.17. 오후 8:04   \n",
       "2  https://news.naver.com/main/read.nhn?mode=LS2D...  2018.03.21. 오후 1:09   \n",
       "3  https://news.naver.com/main/read.nhn?mode=LS2D...  2019.01.02. 오후 2:47   \n",
       "4  https://news.naver.com/main/read.nhn?mode=LS2D...  2019.07.16. 오후 8:11   \n",
       "\n",
       "   target  \n",
       "0       5  \n",
       "1       4  \n",
       "2       6  \n",
       "3       2  \n",
       "4       4  "
      ]
     },
     "execution_count": 20,
     "metadata": {},
     "output_type": "execute_result"
    }
   ],
   "source": [
    "dataset_test.head()"
   ]
  },
  {
   "cell_type": "code",
   "execution_count": null,
   "metadata": {},
   "outputs": [],
   "source": []
  }
 ],
 "metadata": {
  "kernelspec": {
   "display_name": "Python 3",
   "language": "python",
   "name": "python3"
  },
  "language_info": {
   "codemirror_mode": {
    "name": "ipython",
    "version": 3
   },
   "file_extension": ".py",
   "mimetype": "text/x-python",
   "name": "python",
   "nbconvert_exporter": "python",
   "pygments_lexer": "ipython3",
   "version": "3.8.5"
  }
 },
 "nbformat": 4,
 "nbformat_minor": 4
}
