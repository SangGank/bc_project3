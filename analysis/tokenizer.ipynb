{
 "cells": [
  {
   "cell_type": "code",
   "execution_count": 1,
   "metadata": {},
   "outputs": [],
   "source": [
    "from transformers import AutoModelForSequenceClassification, AutoTokenizer\n",
    "import pandas as pd"
   ]
  },
  {
   "cell_type": "code",
   "execution_count": 2,
   "metadata": {},
   "outputs": [],
   "source": [
    "model_name = 'klue/bert-base'\n",
    "tokenizer = AutoTokenizer.from_pretrained(model_name)"
   ]
  },
  {
   "cell_type": "code",
   "execution_count": 4,
   "metadata": {},
   "outputs": [
    {
     "name": "stdout",
     "output_type": "stream",
     "text": [
      "['만들', '##자', '…', '문화예술', '##인']\n"
     ]
    }
   ],
   "source": [
    "text = '만들자…문화예술인'\n",
    "\n",
    "tokens = tokenizer.tokenize(text)\n",
    "print(tokens)"
   ]
  },
  {
   "cell_type": "code",
   "execution_count": 19,
   "metadata": {},
   "outputs": [
    {
     "name": "stdout",
     "output_type": "stream",
     "text": [
      "[25238, 2024, 5126, 22, 6188, 8000, 7474, 1, 4542]\n"
     ]
    }
   ],
   "source": [
    "id = tokenizer.convert_tokens_to_ids(tokens)\n",
    "print(id)"
   ]
  },
  {
   "cell_type": "code",
   "execution_count": 20,
   "metadata": {},
   "outputs": [
    {
     "data": {
      "text/plain": [
       "'마이크로소프트 2세대 무선 디스플레이 [UNK] 출시'"
      ]
     },
     "execution_count": 20,
     "metadata": {},
     "output_type": "execute_result"
    }
   ],
   "source": [
    "tokenizer.decode(id)"
   ]
  },
  {
   "cell_type": "code",
   "execution_count": 21,
   "metadata": {},
   "outputs": [
    {
     "name": "stdout",
     "output_type": "stream",
     "text": [
      "[2, 25238, 2024, 5126, 22, 6188, 8000, 7474, 1, 4542, 3]\n"
     ]
    }
   ],
   "source": [
    "id = tokenizer(text)['input_ids']\n",
    "print(id)"
   ]
  },
  {
   "cell_type": "code",
   "execution_count": 22,
   "metadata": {},
   "outputs": [
    {
     "data": {
      "text/plain": [
       "'[CLS] 마이크로소프트 2세대 무선 디스플레이 [UNK] 출시 [SEP]'"
      ]
     },
     "execution_count": 22,
     "metadata": {},
     "output_type": "execute_result"
    }
   ],
   "source": [
    "tokenizer.decode(id)"
   ]
  },
  {
   "cell_type": "code",
   "execution_count": 16,
   "metadata": {},
   "outputs": [
    {
     "data": {
      "text/plain": [
       "'##석'"
      ]
     },
     "execution_count": 16,
     "metadata": {},
     "output_type": "execute_result"
    }
   ],
   "source": [
    "tokenizer.decode([2055])"
   ]
  },
  {
   "cell_type": "code",
   "execution_count": 17,
   "metadata": {},
   "outputs": [
    {
     "data": {
      "text/plain": [
       "'[UNK]'"
      ]
     },
     "execution_count": 17,
     "metadata": {},
     "output_type": "execute_result"
    }
   ],
   "source": [
    "tokenizer.unk_token"
   ]
  },
  {
   "cell_type": "code",
   "execution_count": 24,
   "metadata": {},
   "outputs": [
    {
     "data": {
      "text/html": [
       "<div>\n",
       "<style scoped>\n",
       "    .dataframe tbody tr th:only-of-type {\n",
       "        vertical-align: middle;\n",
       "    }\n",
       "\n",
       "    .dataframe tbody tr th {\n",
       "        vertical-align: top;\n",
       "    }\n",
       "\n",
       "    .dataframe thead th {\n",
       "        text-align: right;\n",
       "    }\n",
       "</style>\n",
       "<table border=\"1\" class=\"dataframe\">\n",
       "  <thead>\n",
       "    <tr style=\"text-align: right;\">\n",
       "      <th></th>\n",
       "      <th>ID</th>\n",
       "      <th>text</th>\n",
       "      <th>target</th>\n",
       "      <th>url</th>\n",
       "      <th>date</th>\n",
       "      <th>pred_target</th>\n",
       "    </tr>\n",
       "  </thead>\n",
       "  <tbody>\n",
       "    <tr>\n",
       "      <th>0</th>\n",
       "      <td>ynat-v1_train_05963</td>\n",
       "      <td>아파트 매각해 동국대에 2억원 기부한 부부</td>\n",
       "      <td>2</td>\n",
       "      <td>https://news.naver.com/main/read.nhn?mode=LS2D...</td>\n",
       "      <td>2020.12.30. 오전 11:22</td>\n",
       "      <td>1</td>\n",
       "    </tr>\n",
       "    <tr>\n",
       "      <th>1</th>\n",
       "      <td>ynat-v1_train_02096</td>\n",
       "      <td>홍세섭 영모도부터 김환기 서예까지…정동1928아트센터 개관전</td>\n",
       "      <td>2</td>\n",
       "      <td>https://news.naver.com/main/read.nhn?mode=LS2D...</td>\n",
       "      <td>2019.10.02. 오후 6:17</td>\n",
       "      <td>3</td>\n",
       "    </tr>\n",
       "    <tr>\n",
       "      <th>2</th>\n",
       "      <td>ynat-v1_train_03222</td>\n",
       "      <td>권칠승 상가임대료 현금 말고 카드로도 납부…법안 발의</td>\n",
       "      <td>2</td>\n",
       "      <td>https://news.naver.com/main/read.nhn?mode=LS2D...</td>\n",
       "      <td>2018.07.18. 오후 2:45</td>\n",
       "      <td>6</td>\n",
       "    </tr>\n",
       "    <tr>\n",
       "      <th>3</th>\n",
       "      <td>ynat-v1_train_02502</td>\n",
       "      <td>알뜰폰 공짜라더니… 노인 울리는 공짜폰 주의보</td>\n",
       "      <td>2</td>\n",
       "      <td>https://news.naver.com/main/read.nhn?mode=LS2D...</td>\n",
       "      <td>2016.05.17. 오전 6:20</td>\n",
       "      <td>0</td>\n",
       "    </tr>\n",
       "    <tr>\n",
       "      <th>4</th>\n",
       "      <td>ynat-v1_train_03673</td>\n",
       "      <td>부산소식 동서대 디자인대학 수업 작품 옥외광고전 수상</td>\n",
       "      <td>2</td>\n",
       "      <td>https://news.naver.com/main/read.nhn?mode=LS2D...</td>\n",
       "      <td>2020.09.14. 오후 4:11</td>\n",
       "      <td>3</td>\n",
       "    </tr>\n",
       "  </tbody>\n",
       "</table>\n",
       "</div>"
      ],
      "text/plain": [
       "                    ID                               text  target   \n",
       "0  ynat-v1_train_05963            아파트 매각해 동국대에 2억원 기부한 부부       2  \\\n",
       "1  ynat-v1_train_02096  홍세섭 영모도부터 김환기 서예까지…정동1928아트센터 개관전       2   \n",
       "2  ynat-v1_train_03222      권칠승 상가임대료 현금 말고 카드로도 납부…법안 발의       2   \n",
       "3  ynat-v1_train_02502          알뜰폰 공짜라더니… 노인 울리는 공짜폰 주의보       2   \n",
       "4  ynat-v1_train_03673      부산소식 동서대 디자인대학 수업 작품 옥외광고전 수상       2   \n",
       "\n",
       "                                                 url                  date   \n",
       "0  https://news.naver.com/main/read.nhn?mode=LS2D...  2020.12.30. 오전 11:22  \\\n",
       "1  https://news.naver.com/main/read.nhn?mode=LS2D...   2019.10.02. 오후 6:17   \n",
       "2  https://news.naver.com/main/read.nhn?mode=LS2D...   2018.07.18. 오후 2:45   \n",
       "3  https://news.naver.com/main/read.nhn?mode=LS2D...   2016.05.17. 오전 6:20   \n",
       "4  https://news.naver.com/main/read.nhn?mode=LS2D...   2020.09.14. 오후 4:11   \n",
       "\n",
       "   pred_target  \n",
       "0            1  \n",
       "1            3  \n",
       "2            6  \n",
       "3            0  \n",
       "4            3  "
      ]
     },
     "execution_count": 24,
     "metadata": {},
     "output_type": "execute_result"
    }
   ],
   "source": [
    "wrong2=pd.read_csv('./wrong2.csv')\n",
    "wrong2.head()"
   ]
  },
  {
   "cell_type": "code",
   "execution_count": 36,
   "metadata": {},
   "outputs": [
    {
     "name": "stdout",
     "output_type": "stream",
     "text": [
      "['알뜰', '##폰', '공짜', '##라', '##더니', '…', '노인', '울리', '##는', '공짜', '##폰', '주의보']\n",
      "['톈', '##궁', '1', '##호', '9', '##시', '##16', '##분', '남', '##태평양', '추락', '…', '과', '##기부', '위기', '##경', '##보', '해제']\n",
      "['방통', '##위', '##E', '##U', '개인', '##정보', '##보호', '적정', '##성', '평가', '가속', '##화', '합의']\n",
      "['네이버', '뉴스', '편집', '##에', '이용자', '참여', '…', '100', '##억', '구독', '##펀', '##드', '조성', '##종합']\n",
      "['국민', '10', '##명', '중', '8', '##명', '혁신', '기술', '##로', '일자리', '줄어들', '것']\n",
      "['톰슨', '##로이', '##터', '노벨상', '적중', '##률', '14', '%', '…', '한국', '##도', '노벨', '##클', '##래', '##스', '있', '##어']\n",
      "['네이버', '실', '##검', '갱신', '주기', '15', '##초', '##→', '##30', '##초', '##로', '늦춰', '##진다']\n",
      "['내주', '수성', '태양', '##면', '통과', '…', '한국', '##서', '##는', '못', '본다']\n",
      "['모바일', '거인', '페이스북', '한국', '사용자', '·', '정부', '##와', '잇단', '마찰']\n",
      "['다이아', '티비', '유튜브', '구독', '##자', '50', '##만', '##명', '창작자', '130', '##개', '##팀', '확보']\n",
      "['과학', '##전', '##람', '##회', '대통령', '##상', '##에', '충북', '##과학', '##고생', '최경', '##준', '·', '손승', '##연']\n",
      "['2', '##세대', '랜', '##섬', '##웨어', '대비', '급한', '##데', '…', '사이버', '방패', '부족', '##한', '한국']\n",
      "['통신', '·', '전자', '업계', '수능', '마친', '수험', '##생', '대상', '이벤트', '돌입']\n",
      "['코', '##로나', '백신', '노령', '##층', '##에', '효율', '##적', '##이지', '않', '##을', '수도', '부산대', '연구', '##팀']\n",
      "['게시판', '질병', '##청', '생물', '유전체', '정보', '자료', '##분석', '안내서', '발간']\n",
      "['아마존', '일자리', '창출', '앞장', '…', '직원', '1', '##년', '##새', '24', '##만', '##명', '늘어', '54', '##만', '##명']\n",
      "['네이버', '사용자', '##별', '관심', '패턴', '분석', '##해', '뉴스', '추천', '##한다']\n",
      "['과', '##기부', '기후', '##기술', '##대', '##전', '개최', '…', '기후', '##변', '##화', '대응', '##기술', '공유']\n",
      "['미래', '##부', '##→', '##과학', '##기술', '##정보', '##통신', '##부', '…', '9', '##년', '##만', '##에', '정보', '##통신', '표현', '부활', '##종합']\n",
      "['방통', '##위', '이용자', '보호', '##엄', '##무', '평가', '네이버', '##가', '포터', '리', '##뤼']\n",
      "['성공', '##은', '항상', '의외', '##의', '곳', '##에서', '…', '앱', '개발', '##사', '##에', '해외', '##진', '##출', '##은', '로망']\n",
      "['판매점', '##서', '아이폰', '##X', '완', '##납', '##처리', '사기', '##행', '##각', '…', '고객', '760', '##명', '피해']\n",
      "['카드', '##뉴스', '방금', '사용', '##한', '제', '스마트', '##기', '##기', '정보', '동의', '구하', '##셨', '##나', '##요']\n"
     ]
    }
   ],
   "source": [
    "for text in wrong2[wrong2.pred_target==0].text.values:\n",
    "    # print(text)\n",
    "    print(tokenizer.tokenize(text))"
   ]
  }
 ],
 "metadata": {
  "kernelspec": {
   "display_name": "base",
   "language": "python",
   "name": "python3"
  },
  "language_info": {
   "codemirror_mode": {
    "name": "ipython",
    "version": 3
   },
   "file_extension": ".py",
   "mimetype": "text/x-python",
   "name": "python",
   "nbconvert_exporter": "python",
   "pygments_lexer": "ipython3",
   "version": "3.8.5"
  }
 },
 "nbformat": 4,
 "nbformat_minor": 2
}
