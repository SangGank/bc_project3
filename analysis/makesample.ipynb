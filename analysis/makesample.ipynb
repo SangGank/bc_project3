{
 "cells": [
  {
   "cell_type": "code",
   "execution_count": 1,
   "metadata": {},
   "outputs": [],
   "source": [
    "import pandas as pd"
   ]
  },
  {
   "cell_type": "code",
   "execution_count": 2,
   "metadata": {},
   "outputs": [],
   "source": [
    "dev = pd.read_csv('../totalWrong.csv')\n",
    "train = pd.read_csv('../data/train/Total_train.csv')"
   ]
  },
  {
   "cell_type": "code",
   "execution_count": 3,
   "metadata": {},
   "outputs": [
    {
     "data": {
      "text/html": [
       "<div>\n",
       "<style scoped>\n",
       "    .dataframe tbody tr th:only-of-type {\n",
       "        vertical-align: middle;\n",
       "    }\n",
       "\n",
       "    .dataframe tbody tr th {\n",
       "        vertical-align: top;\n",
       "    }\n",
       "\n",
       "    .dataframe thead th {\n",
       "        text-align: right;\n",
       "    }\n",
       "</style>\n",
       "<table border=\"1\" class=\"dataframe\">\n",
       "  <thead>\n",
       "    <tr style=\"text-align: right;\">\n",
       "      <th></th>\n",
       "      <th>ID</th>\n",
       "      <th>text</th>\n",
       "      <th>target</th>\n",
       "      <th>url</th>\n",
       "      <th>date</th>\n",
       "      <th>pred_target</th>\n",
       "    </tr>\n",
       "  </thead>\n",
       "  <tbody>\n",
       "    <tr>\n",
       "      <th>0</th>\n",
       "      <td>ynat-v1_train_00024</td>\n",
       "      <td>이뤄 뢰구긴 관광개 길보니 한구긔 이배…격차 계소 콱때되나</td>\n",
       "      <td>1</td>\n",
       "      <td>https://news.naver.com/main/read.nhn?mode=LS2D...</td>\n",
       "      <td>2017.02.17. 오전 6:35</td>\n",
       "      <td>4</td>\n",
       "    </tr>\n",
       "    <tr>\n",
       "      <th>1</th>\n",
       "      <td>ynat-v1_train_00064</td>\n",
       "      <td>나경복 개인 첫 트리플크라운…우리카드 구단 최다 타이 5연승</td>\n",
       "      <td>0</td>\n",
       "      <td>https://sports.news.naver.com/news.nhn?oid=001...</td>\n",
       "      <td>2019.11.27 20:28</td>\n",
       "      <td>5</td>\n",
       "    </tr>\n",
       "    <tr>\n",
       "      <th>2</th>\n",
       "      <td>ynat-v1_train_00076</td>\n",
       "      <td>눈물 쏟은 문경은 선수 때 우승하고도 안 울었는데…</td>\n",
       "      <td>0</td>\n",
       "      <td>https://sports.news.naver.com/news.nhn?oid=001...</td>\n",
       "      <td>2018.04.18 21:50</td>\n",
       "      <td>5</td>\n",
       "    </tr>\n",
       "    <tr>\n",
       "      <th>3</th>\n",
       "      <td>ynat-v1_train_00084</td>\n",
       "      <td>빅텍 방위사업청에 60억원 규모 전자전장비 공급</td>\n",
       "      <td>0</td>\n",
       "      <td>https://news.naver.com/main/read.nhn?mode=LS2D...</td>\n",
       "      <td>2016.12.26. 오후 2:43</td>\n",
       "      <td>1</td>\n",
       "    </tr>\n",
       "    <tr>\n",
       "      <th>4</th>\n",
       "      <td>ynat-v1_train_00128</td>\n",
       "      <td>3번 연기한 충북 기능경기대회 열려…일부 경기 차질</td>\n",
       "      <td>2</td>\n",
       "      <td>https://news.naver.com/main/read.nhn?mode=LS2D...</td>\n",
       "      <td>2020.06.09. 오후 5:22</td>\n",
       "      <td>5</td>\n",
       "    </tr>\n",
       "  </tbody>\n",
       "</table>\n",
       "</div>"
      ],
      "text/plain": [
       "                    ID                               text  target   \n",
       "0  ynat-v1_train_00024   이뤄 뢰구긴 관광개 길보니 한구긔 이배…격차 계소 콱때되나       1  \\\n",
       "1  ynat-v1_train_00064  나경복 개인 첫 트리플크라운…우리카드 구단 최다 타이 5연승       0   \n",
       "2  ynat-v1_train_00076       눈물 쏟은 문경은 선수 때 우승하고도 안 울었는데…       0   \n",
       "3  ynat-v1_train_00084         빅텍 방위사업청에 60억원 규모 전자전장비 공급       0   \n",
       "4  ynat-v1_train_00128       3번 연기한 충북 기능경기대회 열려…일부 경기 차질       2   \n",
       "\n",
       "                                                 url                 date   \n",
       "0  https://news.naver.com/main/read.nhn?mode=LS2D...  2017.02.17. 오전 6:35  \\\n",
       "1  https://sports.news.naver.com/news.nhn?oid=001...     2019.11.27 20:28   \n",
       "2  https://sports.news.naver.com/news.nhn?oid=001...     2018.04.18 21:50   \n",
       "3  https://news.naver.com/main/read.nhn?mode=LS2D...  2016.12.26. 오후 2:43   \n",
       "4  https://news.naver.com/main/read.nhn?mode=LS2D...  2020.06.09. 오후 5:22   \n",
       "\n",
       "   pred_target  \n",
       "0            4  \n",
       "1            5  \n",
       "2            5  \n",
       "3            1  \n",
       "4            5  "
      ]
     },
     "execution_count": 3,
     "metadata": {},
     "output_type": "execute_result"
    }
   ],
   "source": [
    "dev.head()"
   ]
  },
  {
   "cell_type": "code",
   "execution_count": 6,
   "metadata": {},
   "outputs": [
    {
     "data": {
      "text/html": [
       "<div>\n",
       "<style scoped>\n",
       "    .dataframe tbody tr th:only-of-type {\n",
       "        vertical-align: middle;\n",
       "    }\n",
       "\n",
       "    .dataframe tbody tr th {\n",
       "        vertical-align: top;\n",
       "    }\n",
       "\n",
       "    .dataframe thead th {\n",
       "        text-align: right;\n",
       "    }\n",
       "</style>\n",
       "<table border=\"1\" class=\"dataframe\">\n",
       "  <thead>\n",
       "    <tr style=\"text-align: right;\">\n",
       "      <th></th>\n",
       "      <th>ID</th>\n",
       "      <th>text</th>\n",
       "      <th>target</th>\n",
       "      <th>url</th>\n",
       "      <th>date</th>\n",
       "    </tr>\n",
       "  </thead>\n",
       "  <tbody>\n",
       "    <tr>\n",
       "      <th>0</th>\n",
       "      <td>ynat-v1_train_00000</td>\n",
       "      <td>NaN</td>\n",
       "      <td>NaN</td>\n",
       "      <td>NaN</td>\n",
       "      <td>NaN</td>\n",
       "    </tr>\n",
       "    <tr>\n",
       "      <th>1</th>\n",
       "      <td>ynat-v1_train_00001</td>\n",
       "      <td>NaN</td>\n",
       "      <td>NaN</td>\n",
       "      <td>NaN</td>\n",
       "      <td>NaN</td>\n",
       "    </tr>\n",
       "    <tr>\n",
       "      <th>2</th>\n",
       "      <td>ynat-v1_train_00002</td>\n",
       "      <td>NaN</td>\n",
       "      <td>NaN</td>\n",
       "      <td>NaN</td>\n",
       "      <td>NaN</td>\n",
       "    </tr>\n",
       "    <tr>\n",
       "      <th>3</th>\n",
       "      <td>ynat-v1_train_00003</td>\n",
       "      <td>NaN</td>\n",
       "      <td>NaN</td>\n",
       "      <td>NaN</td>\n",
       "      <td>NaN</td>\n",
       "    </tr>\n",
       "    <tr>\n",
       "      <th>4</th>\n",
       "      <td>ynat-v1_train_00004</td>\n",
       "      <td>NaN</td>\n",
       "      <td>NaN</td>\n",
       "      <td>NaN</td>\n",
       "      <td>NaN</td>\n",
       "    </tr>\n",
       "    <tr>\n",
       "      <th>...</th>\n",
       "      <td>...</td>\n",
       "      <td>...</td>\n",
       "      <td>...</td>\n",
       "      <td>...</td>\n",
       "      <td>...</td>\n",
       "    </tr>\n",
       "    <tr>\n",
       "      <th>6995</th>\n",
       "      <td>ynat-v1_train_06995</td>\n",
       "      <td>NaN</td>\n",
       "      <td>NaN</td>\n",
       "      <td>NaN</td>\n",
       "      <td>NaN</td>\n",
       "    </tr>\n",
       "    <tr>\n",
       "      <th>6996</th>\n",
       "      <td>ynat-v1_train_06996</td>\n",
       "      <td>NaN</td>\n",
       "      <td>NaN</td>\n",
       "      <td>NaN</td>\n",
       "      <td>NaN</td>\n",
       "    </tr>\n",
       "    <tr>\n",
       "      <th>6997</th>\n",
       "      <td>ynat-v1_train_06997</td>\n",
       "      <td>NaN</td>\n",
       "      <td>NaN</td>\n",
       "      <td>NaN</td>\n",
       "      <td>NaN</td>\n",
       "    </tr>\n",
       "    <tr>\n",
       "      <th>6998</th>\n",
       "      <td>ynat-v1_train_06998</td>\n",
       "      <td>NaN</td>\n",
       "      <td>NaN</td>\n",
       "      <td>NaN</td>\n",
       "      <td>NaN</td>\n",
       "    </tr>\n",
       "    <tr>\n",
       "      <th>6999</th>\n",
       "      <td>ynat-v1_train_06999</td>\n",
       "      <td>NaN</td>\n",
       "      <td>NaN</td>\n",
       "      <td>NaN</td>\n",
       "      <td>NaN</td>\n",
       "    </tr>\n",
       "  </tbody>\n",
       "</table>\n",
       "<p>7000 rows × 5 columns</p>\n",
       "</div>"
      ],
      "text/plain": [
       "                       ID text  target  url date\n",
       "0     ynat-v1_train_00000  NaN     NaN  NaN  NaN\n",
       "1     ynat-v1_train_00001  NaN     NaN  NaN  NaN\n",
       "2     ynat-v1_train_00002  NaN     NaN  NaN  NaN\n",
       "3     ynat-v1_train_00003  NaN     NaN  NaN  NaN\n",
       "4     ynat-v1_train_00004  NaN     NaN  NaN  NaN\n",
       "...                   ...  ...     ...  ...  ...\n",
       "6995  ynat-v1_train_06995  NaN     NaN  NaN  NaN\n",
       "6996  ynat-v1_train_06996  NaN     NaN  NaN  NaN\n",
       "6997  ynat-v1_train_06997  NaN     NaN  NaN  NaN\n",
       "6998  ynat-v1_train_06998  NaN     NaN  NaN  NaN\n",
       "6999  ynat-v1_train_06999  NaN     NaN  NaN  NaN\n",
       "\n",
       "[7000 rows x 5 columns]"
      ]
     },
     "execution_count": 6,
     "metadata": {},
     "output_type": "execute_result"
    }
   ],
   "source": [
    "dev_index = pd.merge(train['ID'], dev.loc[:,:'date'],on='ID',how='left')\n",
    "dev_index"
   ]
  },
  {
   "cell_type": "code",
   "execution_count": 10,
   "metadata": {},
   "outputs": [
    {
     "data": {
      "text/plain": [
       "Index([  19,   24,   25,   35,   39,   47,   62,   64,   75,   76,\n",
       "       ...\n",
       "       6926, 6936, 6939, 6945, 6949, 6955, 6964, 6969, 6978, 6984],\n",
       "      dtype='int64', length=1099)"
      ]
     },
     "execution_count": 10,
     "metadata": {},
     "output_type": "execute_result"
    }
   ],
   "source": [
    "dev_index[~dev_index.text.isna()].index"
   ]
  },
  {
   "cell_type": "code",
   "execution_count": 11,
   "metadata": {},
   "outputs": [],
   "source": [
    "train.drop(dev_index[~dev_index.text.isna()].index).to_csv('../data/wrong_train.csv',index =False)\n",
    "dev.to_csv('../data/wrong_dev.csv',index =False)"
   ]
  },
  {
   "cell_type": "code",
   "execution_count": 12,
   "metadata": {},
   "outputs": [],
   "source": [
    "ai = pd.read_csv('../dev/dev_AI.csv')\n",
    "ai2 = pd.read_csv('../dev/dev_AI_limit.csv')"
   ]
  },
  {
   "cell_type": "code",
   "execution_count": 14,
   "metadata": {},
   "outputs": [
    {
     "data": {
      "text/plain": [
       "14994"
      ]
     },
     "execution_count": 14,
     "metadata": {},
     "output_type": "execute_result"
    }
   ],
   "source": [
    "(ai.pred_target != ai2.pred_target).sum()"
   ]
  },
  {
   "cell_type": "code",
   "execution_count": 17,
   "metadata": {},
   "outputs": [
    {
     "data": {
      "text/plain": [
       "pred_target\n",
       "0    1318\n",
       "1     944\n",
       "2    7160\n",
       "3    2751\n",
       "4     702\n",
       "5    1168\n",
       "6     951\n",
       "Name: count, dtype: int64"
      ]
     },
     "execution_count": 17,
     "metadata": {},
     "output_type": "execute_result"
    }
   ],
   "source": [
    "ai[ai.pred_target != ai2.pred_target].pred_target.value_counts().reindex(range(7))"
   ]
  },
  {
   "cell_type": "code",
   "execution_count": 18,
   "metadata": {},
   "outputs": [
    {
     "data": {
      "text/plain": [
       "pred_target\n",
       "0    2510\n",
       "1    4217\n",
       "2    3246\n",
       "3    2874\n",
       "4     611\n",
       "5     284\n",
       "6    1252\n",
       "Name: count, dtype: int64"
      ]
     },
     "execution_count": 18,
     "metadata": {},
     "output_type": "execute_result"
    }
   ],
   "source": [
    "ai2[ai.pred_target != ai2.pred_target].pred_target.value_counts().reindex(range(7))\n"
   ]
  },
  {
   "cell_type": "code",
   "execution_count": 21,
   "metadata": {},
   "outputs": [
    {
     "data": {
      "text/plain": [
       "target\n",
       "2    47827\n",
       "1    25885\n",
       "3    22227\n",
       "6    16840\n",
       "5     7872\n",
       "4     7487\n",
       "0     5672\n",
       "Name: count, dtype: int64"
      ]
     },
     "execution_count": 21,
     "metadata": {},
     "output_type": "execute_result"
    }
   ],
   "source": [
    "pd.read_csv('../addDateJson/total_remove_punc.csv').target.value_counts()"
   ]
  },
  {
   "cell_type": "code",
   "execution_count": 20,
   "metadata": {},
   "outputs": [
    {
     "data": {
      "text/plain": [
       "pred_target\n",
       "2    61458\n",
       "3    19372\n",
       "6    15443\n",
       "1    11289\n",
       "5     8932\n",
       "4     8741\n",
       "0     8575\n",
       "Name: count, dtype: int64"
      ]
     },
     "execution_count": 20,
     "metadata": {},
     "output_type": "execute_result"
    }
   ],
   "source": [
    "ai.pred_target.value_counts()\n"
   ]
  },
  {
   "cell_type": "code",
   "execution_count": 19,
   "metadata": {},
   "outputs": [
    {
     "data": {
      "text/plain": [
       "pred_target\n",
       "2    57544\n",
       "3    19495\n",
       "6    15744\n",
       "1    14562\n",
       "0     9767\n",
       "4     8650\n",
       "5     8048\n",
       "Name: count, dtype: int64"
      ]
     },
     "execution_count": 19,
     "metadata": {},
     "output_type": "execute_result"
    }
   ],
   "source": [
    "ai2.pred_target.value_counts()"
   ]
  },
  {
   "cell_type": "code",
   "execution_count": 24,
   "metadata": {},
   "outputs": [],
   "source": [
    "ai3 = pd.DataFrame()\n",
    "ai3['text']=ai2.text\n",
    "ai3['target']=ai2.pred_target\n",
    "ai3.to_csv('../data/train_ai_limit.csv',index=False)"
   ]
  },
  {
   "cell_type": "code",
   "execution_count": 26,
   "metadata": {},
   "outputs": [
    {
     "data": {
      "text/plain": [
       "target\n",
       "2    57544\n",
       "3    19495\n",
       "6    15744\n",
       "1    14562\n",
       "0     9767\n",
       "4     8650\n",
       "5     8048\n",
       "Name: count, dtype: int64"
      ]
     },
     "execution_count": 26,
     "metadata": {},
     "output_type": "execute_result"
    }
   ],
   "source": [
    "ai3.target.value_counts()"
   ]
  }
 ],
 "metadata": {
  "kernelspec": {
   "display_name": "base",
   "language": "python",
   "name": "python3"
  },
  "language_info": {
   "codemirror_mode": {
    "name": "ipython",
    "version": 3
   },
   "file_extension": ".py",
   "mimetype": "text/x-python",
   "name": "python",
   "nbconvert_exporter": "python",
   "pygments_lexer": "ipython3",
   "version": "3.8.5"
  }
 },
 "nbformat": 4,
 "nbformat_minor": 2
}
