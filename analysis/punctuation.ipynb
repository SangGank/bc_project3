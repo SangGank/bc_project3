{
 "cells": [
  {
   "cell_type": "code",
   "execution_count": 1,
   "metadata": {},
   "outputs": [],
   "source": [
    "import pandas as pd\n",
    "import string\n",
    "import re"
   ]
  },
  {
   "cell_type": "code",
   "execution_count": 3,
   "metadata": {},
   "outputs": [
    {
     "name": "stdout",
     "output_type": "stream",
     "text": [
      "{'.', '%'}\n",
      "!\"#$&'()*+,-/:;<=>?@[\\]^_`{|}~\n"
     ]
    }
   ],
   "source": [
    "# 특수 문자 목록\n",
    "special_chars = string.punctuation\n",
    "\n",
    "# 검사할 문자열 리스트\n",
    "train = pd.read_csv('../data/train.csv')\n",
    "# print(train.text.values)\n",
    "\n",
    "# 문자열 리스트에서 발견된 모든 특수 문자를 저장할 세트\n",
    "found_special_chars = set()\n",
    "\n",
    "# 각 문자열에서 특수 문자 찾기\n",
    "for s in train.text.values:\n",
    "    for char in s:\n",
    "        if char in special_chars:\n",
    "            found_special_chars.add(char)\n",
    "print(found_special_chars)\n",
    "# 발견된 특수 문자를 string.punctuation에서 제거\n",
    "remaining_chars = ''.join(char for char in special_chars if char not in found_special_chars)\n",
    "\n",
    "# 결과 출력\n",
    "print(remaining_chars)"
   ]
  },
  {
   "cell_type": "code",
   "execution_count": 10,
   "metadata": {},
   "outputs": [],
   "source": [
    "def remove_punc(text):\n",
    "    text= re.sub(r'[!\"#$&\\'\\(\\)\\*\\+\\,\\-\\/\\:\\;\\<\\=\\>\\?\\@\\[\\]\\^\\_\\`\\{\\|\\}\\~\\“\\”\\‘\\’]','',text).strip()\n",
    "    return text"
   ]
  },
  {
   "cell_type": "code",
   "execution_count": 13,
   "metadata": {},
   "outputs": [],
   "source": [
    "arg = pd.read_csv('../addDateJson/total_arguments.csv')\n",
    "arg2=arg.copy()\n",
    "arg2.text = arg2.text.apply(lambda x: remove_punc(x))\n",
    "arg2.to_csv('../addDateJson/total_remove_punc.csv',index=False)"
   ]
  },
  {
   "cell_type": "code",
   "execution_count": 14,
   "metadata": {},
   "outputs": [
    {
     "data": {
      "text/plain": [
       "target\n",
       "2    47827\n",
       "1    25885\n",
       "3    22227\n",
       "6    16840\n",
       "5     7872\n",
       "4     7487\n",
       "0     5672\n",
       "Name: count, dtype: int64"
      ]
     },
     "execution_count": 14,
     "metadata": {},
     "output_type": "execute_result"
    }
   ],
   "source": [
    "arg2.target.value_counts()"
   ]
  },
  {
   "cell_type": "code",
   "execution_count": 20,
   "metadata": {},
   "outputs": [
    {
     "data": {
      "text/plain": [
       "79"
      ]
     },
     "execution_count": 20,
     "metadata": {},
     "output_type": "execute_result"
    }
   ],
   "source": [
    "arg2.text.str.len().max()"
   ]
  }
 ],
 "metadata": {
  "kernelspec": {
   "display_name": "base",
   "language": "python",
   "name": "python3"
  },
  "language_info": {
   "codemirror_mode": {
    "name": "ipython",
    "version": 3
   },
   "file_extension": ".py",
   "mimetype": "text/x-python",
   "name": "python",
   "nbconvert_exporter": "python",
   "pygments_lexer": "ipython3",
   "version": "3.8.5"
  }
 },
 "nbformat": 4,
 "nbformat_minor": 2
}
