{
 "cells": [
  {
   "cell_type": "code",
   "execution_count": 41,
   "metadata": {},
   "outputs": [],
   "source": [
    "import pandas as pd"
   ]
  },
  {
   "cell_type": "code",
   "execution_count": 55,
   "metadata": {},
   "outputs": [],
   "source": [
    "train_data= pd.read_csv('../data/train.csv')\n",
    "argument = pd.read_csv('../addDateJson/total_arguments.csv')"
   ]
  },
  {
   "cell_type": "code",
   "execution_count": 56,
   "metadata": {},
   "outputs": [
    {
     "data": {
      "text/html": [
       "<div>\n",
       "<style scoped>\n",
       "    .dataframe tbody tr th:only-of-type {\n",
       "        vertical-align: middle;\n",
       "    }\n",
       "\n",
       "    .dataframe tbody tr th {\n",
       "        vertical-align: top;\n",
       "    }\n",
       "\n",
       "    .dataframe thead th {\n",
       "        text-align: right;\n",
       "    }\n",
       "</style>\n",
       "<table border=\"1\" class=\"dataframe\">\n",
       "  <thead>\n",
       "    <tr style=\"text-align: right;\">\n",
       "      <th></th>\n",
       "      <th>text</th>\n",
       "      <th>target</th>\n",
       "    </tr>\n",
       "  </thead>\n",
       "  <tbody>\n",
       "    <tr>\n",
       "      <th>3</th>\n",
       "      <td>전남소방, 전국 첫 ‘119생활안전전담대’ 운영</td>\n",
       "      <td>2</td>\n",
       "    </tr>\n",
       "    <tr>\n",
       "      <th>5</th>\n",
       "      <td>화이자 이어 AZ도 재고 이틀 남짓… 5월 백신 접종 비상</td>\n",
       "      <td>2</td>\n",
       "    </tr>\n",
       "    <tr>\n",
       "      <th>6</th>\n",
       "      <td>여수로 낚시 떠난 60대 숨진 채 발견</td>\n",
       "      <td>2</td>\n",
       "    </tr>\n",
       "    <tr>\n",
       "      <th>8</th>\n",
       "      <td>경찰, 친누나 살해 후 농수로 유기한 남동생 구속</td>\n",
       "      <td>2</td>\n",
       "    </tr>\n",
       "    <tr>\n",
       "      <th>9</th>\n",
       "      <td>“성관계 영상 팔아 벌금 내면 끝” 여친 협박 30대 실형</td>\n",
       "      <td>2</td>\n",
       "    </tr>\n",
       "    <tr>\n",
       "      <th>...</th>\n",
       "      <td>...</td>\n",
       "      <td>...</td>\n",
       "    </tr>\n",
       "    <tr>\n",
       "      <th>388</th>\n",
       "      <td>“지역 서점 살리자”… 강원도 ‘인증제’</td>\n",
       "      <td>2</td>\n",
       "    </tr>\n",
       "    <tr>\n",
       "      <th>398</th>\n",
       "      <td>의정부성모, 정신건강 입원영역 적정성 평가 1등급</td>\n",
       "      <td>2</td>\n",
       "    </tr>\n",
       "    <tr>\n",
       "      <th>403</th>\n",
       "      <td>만취 상태서 사망 사고 낸 벤츠 운전자, 구속 기로</td>\n",
       "      <td>2</td>\n",
       "    </tr>\n",
       "    <tr>\n",
       "      <th>405</th>\n",
       "      <td>인천새마을금고 새생명돕기회 1500만원 길병원 쾌척</td>\n",
       "      <td>2</td>\n",
       "    </tr>\n",
       "    <tr>\n",
       "      <th>406</th>\n",
       "      <td>김어준 ‘7인 모임’ 과태료 안 낸다…4개월 만에 최종결론</td>\n",
       "      <td>2</td>\n",
       "    </tr>\n",
       "  </tbody>\n",
       "</table>\n",
       "<p>200 rows × 2 columns</p>\n",
       "</div>"
      ],
      "text/plain": [
       "                                 text  target\n",
       "3          전남소방, 전국 첫 ‘119생활안전전담대’ 운영       2\n",
       "5    화이자 이어 AZ도 재고 이틀 남짓… 5월 백신 접종 비상       2\n",
       "6               여수로 낚시 떠난 60대 숨진 채 발견       2\n",
       "8         경찰, 친누나 살해 후 농수로 유기한 남동생 구속       2\n",
       "9    “성관계 영상 팔아 벌금 내면 끝” 여친 협박 30대 실형       2\n",
       "..                                ...     ...\n",
       "388            “지역 서점 살리자”… 강원도 ‘인증제’       2\n",
       "398       의정부성모, 정신건강 입원영역 적정성 평가 1등급       2\n",
       "403      만취 상태서 사망 사고 낸 벤츠 운전자, 구속 기로       2\n",
       "405      인천새마을금고 새생명돕기회 1500만원 길병원 쾌척       2\n",
       "406  김어준 ‘7인 모임’ 과태료 안 낸다…4개월 만에 최종결론       2\n",
       "\n",
       "[200 rows x 2 columns]"
      ]
     },
     "execution_count": 56,
     "metadata": {},
     "output_type": "execute_result"
    }
   ],
   "source": [
    "add2 = argument[argument.target==2].iloc[:200]\n",
    "add2"
   ]
  },
  {
   "cell_type": "code",
   "execution_count": 61,
   "metadata": {},
   "outputs": [],
   "source": [
    "train_add_123 = train_data.copy()\n",
    "for i in range(3):\n",
    "    add2 = argument[argument.target==i].iloc[:600]\n",
    "    train_add_123=pd.concat([train_add_123,add2])\n",
    "    \n",
    "train_add_123 = train_add_123.sample(frac =1,random_state= 42)\n",
    " \n",
    "train_add_123.to_csv('../data/train_add_123.csv',index=False)"
   ]
  },
  {
   "cell_type": "code",
   "execution_count": 44,
   "metadata": {},
   "outputs": [],
   "source": [
    "train_add2_200 = pd.concat([train_data,add2])\n",
    "train_add2_200 = train_add2_200.sample(frac =1,random_state= 42)\n",
    " \n",
    "train_add2_200.to_csv('../data/train_add2_200.csv',index=False)"
   ]
  },
  {
   "cell_type": "code",
   "execution_count": 45,
   "metadata": {},
   "outputs": [],
   "source": [
    "add2 = argument[argument.target==2].iloc[:400]\n",
    "train_add2_400 = pd.concat([train_data,add2])\n",
    "\n",
    "train_add2_400 = train_add2_400.sample(frac =1,random_state= 42)\n",
    " \n",
    "train_add2_400.to_csv('../data/train_add2_400.csv',index=False)"
   ]
  },
  {
   "cell_type": "code",
   "execution_count": 46,
   "metadata": {},
   "outputs": [],
   "source": [
    "add2 = argument[argument.target==2].iloc[:600]\n",
    "train_add2_600 = pd.concat([train_data,add2])\n",
    "\n",
    "train_add2_600 = train_add2_600.sample(frac=1,random_state= 42)\n",
    " \n",
    "train_add2_600.to_csv('../data/train_add2_600.csv',index=False)"
   ]
  },
  {
   "cell_type": "code",
   "execution_count": 47,
   "metadata": {},
   "outputs": [],
   "source": [
    "add2 = argument[argument.target==2].iloc[:1000]\n",
    "train_add2_1000 = pd.concat([train_data,add2])\n",
    "\n",
    "train_add2_1000 = train_add2_1000.sample(frac=1,random_state= 42)\n",
    " \n",
    "train_add2_1000.to_csv('../data/train_add2_1000.csv',index=False)"
   ]
  },
  {
   "cell_type": "code",
   "execution_count": 48,
   "metadata": {},
   "outputs": [],
   "source": [
    "add2 = argument.groupby('target').sample(n=2000,random_state=42)\n",
    "train_2000 = pd.concat([train_data,add2])\n",
    "\n",
    "train_2000 = train_2000.sample(frac=1,random_state= 42)\n",
    " \n",
    "train_2000.to_csv('../data/train_arg2000.csv',index=False)"
   ]
  },
  {
   "cell_type": "code",
   "execution_count": 62,
   "metadata": {},
   "outputs": [],
   "source": [
    "train_data= pd.read_csv('../data/train.csv')\n",
    "argument = pd.read_csv('../addDateJson/total_remove_punc.csv')"
   ]
  },
  {
   "cell_type": "code",
   "execution_count": 50,
   "metadata": {},
   "outputs": [
    {
     "data": {
      "text/html": [
       "<div>\n",
       "<style scoped>\n",
       "    .dataframe tbody tr th:only-of-type {\n",
       "        vertical-align: middle;\n",
       "    }\n",
       "\n",
       "    .dataframe tbody tr th {\n",
       "        vertical-align: top;\n",
       "    }\n",
       "\n",
       "    .dataframe thead th {\n",
       "        text-align: right;\n",
       "    }\n",
       "</style>\n",
       "<table border=\"1\" class=\"dataframe\">\n",
       "  <thead>\n",
       "    <tr style=\"text-align: right;\">\n",
       "      <th></th>\n",
       "      <th>text</th>\n",
       "      <th>target</th>\n",
       "    </tr>\n",
       "  </thead>\n",
       "  <tbody>\n",
       "    <tr>\n",
       "      <th>3</th>\n",
       "      <td>전남소방 전국 첫 119생활안전전담대 운영</td>\n",
       "      <td>2</td>\n",
       "    </tr>\n",
       "    <tr>\n",
       "      <th>5</th>\n",
       "      <td>화이자 이어 AZ도 재고 이틀 남짓… 5월 백신 접종 비상</td>\n",
       "      <td>2</td>\n",
       "    </tr>\n",
       "    <tr>\n",
       "      <th>6</th>\n",
       "      <td>여수로 낚시 떠난 60대 숨진 채 발견</td>\n",
       "      <td>2</td>\n",
       "    </tr>\n",
       "    <tr>\n",
       "      <th>8</th>\n",
       "      <td>경찰 친누나 살해 후 농수로 유기한 남동생 구속</td>\n",
       "      <td>2</td>\n",
       "    </tr>\n",
       "    <tr>\n",
       "      <th>9</th>\n",
       "      <td>성관계 영상 팔아 벌금 내면 끝 여친 협박 30대 실형</td>\n",
       "      <td>2</td>\n",
       "    </tr>\n",
       "    <tr>\n",
       "      <th>...</th>\n",
       "      <td>...</td>\n",
       "      <td>...</td>\n",
       "    </tr>\n",
       "    <tr>\n",
       "      <th>388</th>\n",
       "      <td>지역 서점 살리자… 강원도 인증제</td>\n",
       "      <td>2</td>\n",
       "    </tr>\n",
       "    <tr>\n",
       "      <th>398</th>\n",
       "      <td>의정부성모 정신건강 입원영역 적정성 평가 1등급</td>\n",
       "      <td>2</td>\n",
       "    </tr>\n",
       "    <tr>\n",
       "      <th>403</th>\n",
       "      <td>만취 상태서 사망 사고 낸 벤츠 운전자 구속 기로</td>\n",
       "      <td>2</td>\n",
       "    </tr>\n",
       "    <tr>\n",
       "      <th>405</th>\n",
       "      <td>인천새마을금고 새생명돕기회 1500만원 길병원 쾌척</td>\n",
       "      <td>2</td>\n",
       "    </tr>\n",
       "    <tr>\n",
       "      <th>406</th>\n",
       "      <td>김어준 7인 모임 과태료 안 낸다…4개월 만에 최종결론</td>\n",
       "      <td>2</td>\n",
       "    </tr>\n",
       "  </tbody>\n",
       "</table>\n",
       "<p>200 rows × 2 columns</p>\n",
       "</div>"
      ],
      "text/plain": [
       "                                 text  target\n",
       "3             전남소방 전국 첫 119생활안전전담대 운영       2\n",
       "5    화이자 이어 AZ도 재고 이틀 남짓… 5월 백신 접종 비상       2\n",
       "6               여수로 낚시 떠난 60대 숨진 채 발견       2\n",
       "8          경찰 친누나 살해 후 농수로 유기한 남동생 구속       2\n",
       "9      성관계 영상 팔아 벌금 내면 끝 여친 협박 30대 실형       2\n",
       "..                                ...     ...\n",
       "388                지역 서점 살리자… 강원도 인증제       2\n",
       "398        의정부성모 정신건강 입원영역 적정성 평가 1등급       2\n",
       "403       만취 상태서 사망 사고 낸 벤츠 운전자 구속 기로       2\n",
       "405      인천새마을금고 새생명돕기회 1500만원 길병원 쾌척       2\n",
       "406    김어준 7인 모임 과태료 안 낸다…4개월 만에 최종결론       2\n",
       "\n",
       "[200 rows x 2 columns]"
      ]
     },
     "execution_count": 50,
     "metadata": {},
     "output_type": "execute_result"
    }
   ],
   "source": [
    "add2 = argument[argument.target==2].iloc[:200]\n",
    "add2"
   ]
  },
  {
   "cell_type": "code",
   "execution_count": 63,
   "metadata": {},
   "outputs": [],
   "source": [
    "train_add_123 = train_data.copy()\n",
    "for i in range(3):\n",
    "    add2 = argument[argument.target==i].iloc[:600]\n",
    "    train_add_123=pd.concat([train_add_123,add2])\n",
    "    \n",
    "train_add_123 = train_add_123.sample(frac =1,random_state= 42)\n",
    " \n",
    "train_add_123.to_csv('../data/train_repunc_123.csv',index=False)"
   ]
  },
  {
   "cell_type": "code",
   "execution_count": 51,
   "metadata": {},
   "outputs": [],
   "source": [
    "add2 = argument[argument.target==2].iloc[:600]\n",
    "train_add2_600 = pd.concat([train_data,add2])\n",
    "\n",
    "train_add2_600 = train_add2_600.sample(frac=1,random_state= 42)\n",
    " \n",
    "train_add2_600.to_csv('../data/train_remove_punc2_600.csv',index=False)"
   ]
  },
  {
   "cell_type": "code",
   "execution_count": 52,
   "metadata": {},
   "outputs": [],
   "source": [
    "add2 = argument.groupby('target').sample(n=2000,random_state=42)\n",
    "train_add2_600 = pd.concat([train_data,add2])\n",
    "\n",
    "train_add2_600 = train_add2_600.sample(frac=1,random_state= 42)\n",
    " \n",
    "train_add2_600.to_csv('../data/train_remove2000.csv',index=False)"
   ]
  },
  {
   "cell_type": "code",
   "execution_count": 53,
   "metadata": {},
   "outputs": [],
   "source": [
    "add2 = argument.groupby('target').sample(n=2000,random_state=42)\n",
    "train_remove2000 = pd.concat([train_data,add2])\n",
    "\n",
    "train_remove2000 = train_remove2000.sample(frac=1,random_state= 42)\n",
    " \n",
    "train_remove2000.to_csv('../data/train_remove2000.csv',index=False)"
   ]
  },
  {
   "cell_type": "code",
   "execution_count": null,
   "metadata": {},
   "outputs": [],
   "source": []
  }
 ],
 "metadata": {
  "kernelspec": {
   "display_name": "base",
   "language": "python",
   "name": "python3"
  },
  "language_info": {
   "codemirror_mode": {
    "name": "ipython",
    "version": 3
   },
   "file_extension": ".py",
   "mimetype": "text/x-python",
   "name": "python",
   "nbconvert_exporter": "python",
   "pygments_lexer": "ipython3",
   "version": "3.8.5"
  }
 },
 "nbformat": 4,
 "nbformat_minor": 2
}
