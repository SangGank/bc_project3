{
 "cells": [
  {
   "cell_type": "code",
   "execution_count": 4,
   "metadata": {},
   "outputs": [],
   "source": [
    "import pandas as pd \n",
    "import evaluate\n",
    "import matplotlib.pyplot as plt\n",
    "import os"
   ]
  },
  {
   "cell_type": "code",
   "execution_count": 7,
   "metadata": {},
   "outputs": [
    {
     "data": {
      "text/plain": [
       "['dev_g2p_change_1.csv',\n",
       " 'dev_g2p_change_2.csv',\n",
       " 'dev_repunc_123.csv',\n",
       " 'dev_add2_200.csv',\n",
       " 'dev_add2_1000.csv',\n",
       " 'dev_1.csv',\n",
       " 'dev_remove2000.csv',\n",
       " 'dev_ai_total_3hal.csv',\n",
       " 'dev_ai_total_3hal_origin.csv',\n",
       " 'dev_p2g_2.csv',\n",
       " 'dev_AI.csv',\n",
       " 'dev_add2_600.csv',\n",
       " 'dev_AI_limit.csv',\n",
       " 'dev_g2p_change_3.csv',\n",
       " 'dev_3.csv',\n",
       " 'dev_g2p_change_0.csv',\n",
       " 'dev_arg2000.csv',\n",
       " 'dev_add2_400.csv',\n",
       " 'dev_2.csv',\n",
       " 'dev_p2g_0.csv',\n",
       " 'dev_p2g_3.csv',\n",
       " 'dev_0.csv',\n",
       " 'dev_remove_punc2_600.csv',\n",
       " 'dev_baseline.csv',\n",
       " 'dev_p2g_1.csv']"
      ]
     },
     "execution_count": 7,
     "metadata": {},
     "output_type": "execute_result"
    }
   ],
   "source": [
    "dir ='../dev/'\n",
    "os.listdir(f'{dir}')"
   ]
  },
  {
   "cell_type": "code",
   "execution_count": 8,
   "metadata": {},
   "outputs": [
    {
     "data": {
      "text/plain": [
       "{'dev_g2p_change_1.csv': {'f1': 0.8481772781222163},\n",
       " 'dev_g2p_change_2.csv': {'f1': 0.8545209914593919},\n",
       " 'dev_repunc_123.csv': {'f1': 0.8466710331122089},\n",
       " 'dev_add2_200.csv': {'f1': 0.8523237731218039},\n",
       " 'dev_add2_1000.csv': {'f1': 0.8536718559802201},\n",
       " 'dev_1.csv': {'f1': 0.8386901520290362},\n",
       " 'dev_remove2000.csv': {'f1': 0.8220473424134473},\n",
       " 'dev_ai_total_3hal.csv': {'f1': 0.857751251114977},\n",
       " 'dev_ai_total_3hal_origin.csv': {'f1': 0.857751251114977},\n",
       " 'dev_p2g_2.csv': {'f1': 0.8477619275926578},\n",
       " 'dev_AI.csv': {'f1': 0.5997317733132101},\n",
       " 'dev_add2_600.csv': {'f1': 0.8486871060220958},\n",
       " 'dev_AI_limit.csv': {'f1': 0.6131117054912896},\n",
       " 'dev_g2p_change_3.csv': {'f1': 0.8427545078217802},\n",
       " 'dev_3.csv': {'f1': 0.8300150753088112},\n",
       " 'dev_g2p_change_0.csv': {'f1': 0.856178616713504},\n",
       " 'dev_arg2000.csv': {'f1': 0.8331976232988705},\n",
       " 'dev_add2_400.csv': {'f1': 0.8441190982390642},\n",
       " 'dev_2.csv': {'f1': 0.8472310363369007},\n",
       " 'dev_p2g_0.csv': {'f1': 0.8502599798258027},\n",
       " 'dev_p2g_3.csv': {'f1': 0.835719293978541},\n",
       " 'dev_0.csv': {'f1': 0.8496163702156825},\n",
       " 'dev_remove_punc2_600.csv': {'f1': 0.8524341406537985},\n",
       " 'dev_baseline.csv': {'f1': 0.8543281536060173},\n",
       " 'dev_p2g_1.csv': {'f1': 0.8395789625891386}}"
      ]
     },
     "execution_count": 8,
     "metadata": {},
     "output_type": "execute_result"
    }
   ],
   "source": [
    "f1 = evaluate.load('f1')\n",
    "filelist = os.listdir(dir)\n",
    "dic={}\n",
    "for file in filelist:\n",
    "    df = pd.read_csv(dir+file)\n",
    "    dic[file] = f1.compute(predictions= df.pred_target, references=df.target, average='macro')\n",
    "dic"
   ]
  }
 ],
 "metadata": {
  "kernelspec": {
   "display_name": "base",
   "language": "python",
   "name": "python3"
  },
  "language_info": {
   "codemirror_mode": {
    "name": "ipython",
    "version": 3
   },
   "file_extension": ".py",
   "mimetype": "text/x-python",
   "name": "python",
   "nbconvert_exporter": "python",
   "pygments_lexer": "ipython3",
   "version": "3.8.5"
  }
 },
 "nbformat": 4,
 "nbformat_minor": 2
}
