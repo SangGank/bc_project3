{
 "cells": [
  {
   "cell_type": "code",
   "execution_count": 2,
   "metadata": {},
   "outputs": [],
   "source": [
    "import os\n",
    "import json\n",
    "import pandas as pd"
   ]
  },
  {
   "cell_type": "code",
   "execution_count": 17,
   "metadata": {},
   "outputs": [],
   "source": [
    "label_num ={'IT과학':0,'경제':1,'사회':2,\"문화\":3,'국제':4,\"스포츠\":5,\"정치\":6}"
   ]
  },
  {
   "cell_type": "code",
   "execution_count": 43,
   "metadata": {},
   "outputs": [
    {
     "data": {
      "text/plain": [
       "['TL_text_entailment.json',\n",
       " 'VL_text_entailment.json',\n",
       " 'VL_span_extraction.json',\n",
       " 'TL_unanswerable.json',\n",
       " 'VL_span_inference.json',\n",
       " 'TL_span_inference.json',\n",
       " 'TL_span_extraction.json',\n",
       " 'VL_unanswerable.json']"
      ]
     },
     "execution_count": 43,
     "metadata": {},
     "output_type": "execute_result"
    }
   ],
   "source": [
    "file_list = os.listdir('../addDateJson/')\n",
    "file_list"
   ]
  },
  {
   "cell_type": "markdown",
   "metadata": {},
   "source": [
    "### 각 파일당 csv 파일 생성"
   ]
  },
  {
   "cell_type": "code",
   "execution_count": 50,
   "metadata": {},
   "outputs": [],
   "source": [
    "for file in file_list:\n",
    "\tli=[]\n",
    "\twith open(f'../addDateJson/{file}', \"r\") as f:\n",
    "\t\tdata = json.load(f)\n",
    "\t\tfor i in data['data']:\n",
    "\t\t\tcode= i['doc_class']['code']\n",
    "\t\t# print(code)\n",
    "\t\t\tif code in label_num.keys():\n",
    "\t\t\t\ttitle = i['doc_title']\n",
    "\t\t\t\tli.append([title,label_num[code]])\n",
    "\tx= pd.DataFrame(li,columns=['text','target'])\n",
    "\tname = file[:-5]\n",
    "\tx.to_csv(f'../addDateJson/{name}.csv',index=False)"
   ]
  },
  {
   "cell_type": "markdown",
   "metadata": {},
   "source": [
    "### 모든 파일 다 합쳐서 하나의 csv 파일"
   ]
  },
  {
   "cell_type": "code",
   "execution_count": 47,
   "metadata": {},
   "outputs": [
    {
     "data": {
      "text/html": [
       "<div>\n",
       "<style scoped>\n",
       "    .dataframe tbody tr th:only-of-type {\n",
       "        vertical-align: middle;\n",
       "    }\n",
       "\n",
       "    .dataframe tbody tr th {\n",
       "        vertical-align: top;\n",
       "    }\n",
       "\n",
       "    .dataframe thead th {\n",
       "        text-align: right;\n",
       "    }\n",
       "</style>\n",
       "<table border=\"1\" class=\"dataframe\">\n",
       "  <thead>\n",
       "    <tr style=\"text-align: right;\">\n",
       "      <th></th>\n",
       "      <th>text</th>\n",
       "      <th>target</th>\n",
       "    </tr>\n",
       "  </thead>\n",
       "  <tbody>\n",
       "    <tr>\n",
       "      <th>0</th>\n",
       "      <td>민주당 새 당대표에 86맏형 송영길…최고위원은 ‘친문’ 강화</td>\n",
       "      <td>6</td>\n",
       "    </tr>\n",
       "    <tr>\n",
       "      <th>1</th>\n",
       "      <td>하루3번 동시다발 ‘말폭탄’ 던진 北…한·미 겨냥 기선제압 나섰다</td>\n",
       "      <td>6</td>\n",
       "    </tr>\n",
       "    <tr>\n",
       "      <th>2</th>\n",
       "      <td>서울시, 코로나19 완치자 일상 회복 돕는다</td>\n",
       "      <td>6</td>\n",
       "    </tr>\n",
       "    <tr>\n",
       "      <th>3</th>\n",
       "      <td>전남소방, 전국 첫 ‘119생활안전전담대’ 운영</td>\n",
       "      <td>2</td>\n",
       "    </tr>\n",
       "    <tr>\n",
       "      <th>4</th>\n",
       "      <td>“비혼 출산, 생명윤리 파괴 위험성 커… 졸속 아닌 충분한 사회적 합의 선행돼야”</td>\n",
       "      <td>3</td>\n",
       "    </tr>\n",
       "    <tr>\n",
       "      <th>...</th>\n",
       "      <td>...</td>\n",
       "      <td>...</td>\n",
       "    </tr>\n",
       "    <tr>\n",
       "      <th>133805</th>\n",
       "      <td>정성호 “비문도 반문도 아니다” 전해철 “친노·친문 이유 역차별” 김태년 “당에 계...</td>\n",
       "      <td>6</td>\n",
       "    </tr>\n",
       "    <tr>\n",
       "      <th>133806</th>\n",
       "      <td>민주당 오늘 원내대표 선출...김태년·전해철·정성호 3파전</td>\n",
       "      <td>6</td>\n",
       "    </tr>\n",
       "    <tr>\n",
       "      <th>133807</th>\n",
       "      <td>일제 강제징용 피해 당사자 이동련 할머니 별세</td>\n",
       "      <td>2</td>\n",
       "    </tr>\n",
       "    <tr>\n",
       "      <th>133808</th>\n",
       "      <td>35 vs 4… 본지, 민주 초선 당선 68명 희망 상임위 전수조사</td>\n",
       "      <td>6</td>\n",
       "    </tr>\n",
       "    <tr>\n",
       "      <th>133809</th>\n",
       "      <td>평양 인근 신리 탄도미사일 지원시설 거의 완공 “ICBM 수용” vs “순안공항 방어용”</td>\n",
       "      <td>6</td>\n",
       "    </tr>\n",
       "  </tbody>\n",
       "</table>\n",
       "<p>133810 rows × 2 columns</p>\n",
       "</div>"
      ],
      "text/plain": [
       "                                                     text  target\n",
       "0                       민주당 새 당대표에 86맏형 송영길…최고위원은 ‘친문’ 강화       6\n",
       "1                    하루3번 동시다발 ‘말폭탄’ 던진 北…한·미 겨냥 기선제압 나섰다       6\n",
       "2                                서울시, 코로나19 완치자 일상 회복 돕는다       6\n",
       "3                              전남소방, 전국 첫 ‘119생활안전전담대’ 운영       2\n",
       "4           “비혼 출산, 생명윤리 파괴 위험성 커… 졸속 아닌 충분한 사회적 합의 선행돼야”       3\n",
       "...                                                   ...     ...\n",
       "133805  정성호 “비문도 반문도 아니다” 전해철 “친노·친문 이유 역차별” 김태년 “당에 계...       6\n",
       "133806                   민주당 오늘 원내대표 선출...김태년·전해철·정성호 3파전       6\n",
       "133807                          일제 강제징용 피해 당사자 이동련 할머니 별세       2\n",
       "133808              35 vs 4… 본지, 민주 초선 당선 68명 희망 상임위 전수조사       6\n",
       "133809  평양 인근 신리 탄도미사일 지원시설 거의 완공 “ICBM 수용” vs “순안공항 방어용”       6\n",
       "\n",
       "[133810 rows x 2 columns]"
      ]
     },
     "execution_count": 47,
     "metadata": {},
     "output_type": "execute_result"
    }
   ],
   "source": [
    "li=[]\n",
    "for file in file_list:\n",
    "\twith open(f'../addDateJson/{file}', \"r\") as f:\n",
    "\t\tdata = json.load(f)\n",
    "\t\tfor i in data['data']:\n",
    "\t\t\tcode= i['doc_class']['code']\n",
    "\t\t# print(code)\n",
    "\t\t\tif code in label_num.keys():\n",
    "\t\t\t\ttitle = i['doc_title']\n",
    "\t\t\t\tli.append([title,label_num[code]])\n",
    "x= pd.DataFrame(li,columns=['text','target'])\n",
    "x.to_csv('../addDateJson/total_arguments.csv',index=False)\n"
   ]
  },
  {
   "cell_type": "code",
   "execution_count": 54,
   "metadata": {},
   "outputs": [
    {
     "data": {
      "text/html": [
       "<div>\n",
       "<style scoped>\n",
       "    .dataframe tbody tr th:only-of-type {\n",
       "        vertical-align: middle;\n",
       "    }\n",
       "\n",
       "    .dataframe tbody tr th {\n",
       "        vertical-align: top;\n",
       "    }\n",
       "\n",
       "    .dataframe thead th {\n",
       "        text-align: right;\n",
       "    }\n",
       "</style>\n",
       "<table border=\"1\" class=\"dataframe\">\n",
       "  <thead>\n",
       "    <tr style=\"text-align: right;\">\n",
       "      <th></th>\n",
       "      <th>text</th>\n",
       "      <th>target</th>\n",
       "    </tr>\n",
       "  </thead>\n",
       "  <tbody>\n",
       "    <tr>\n",
       "      <th>623</th>\n",
       "      <td>남자 프로배구 첫 외국인 사령탑 탄생</td>\n",
       "      <td>5</td>\n",
       "    </tr>\n",
       "  </tbody>\n",
       "</table>\n",
       "</div>"
      ],
      "text/plain": [
       "                     text  target\n",
       "623  남자 프로배구 첫 외국인 사령탑 탄생       5"
      ]
     },
     "execution_count": 54,
     "metadata": {},
     "output_type": "execute_result"
    }
   ],
   "source": [
    "x[x.text.duplicated()]"
   ]
  },
  {
   "cell_type": "code",
   "execution_count": 55,
   "metadata": {},
   "outputs": [
    {
     "data": {
      "text/html": [
       "<div>\n",
       "<style scoped>\n",
       "    .dataframe tbody tr th:only-of-type {\n",
       "        vertical-align: middle;\n",
       "    }\n",
       "\n",
       "    .dataframe tbody tr th {\n",
       "        vertical-align: top;\n",
       "    }\n",
       "\n",
       "    .dataframe thead th {\n",
       "        text-align: right;\n",
       "    }\n",
       "</style>\n",
       "<table border=\"1\" class=\"dataframe\">\n",
       "  <thead>\n",
       "    <tr style=\"text-align: right;\">\n",
       "      <th></th>\n",
       "      <th>text</th>\n",
       "      <th>target</th>\n",
       "    </tr>\n",
       "  </thead>\n",
       "  <tbody>\n",
       "    <tr>\n",
       "      <th>601</th>\n",
       "      <td>남자 프로배구 첫 외국인 사령탑 탄생</td>\n",
       "      <td>5</td>\n",
       "    </tr>\n",
       "    <tr>\n",
       "      <th>623</th>\n",
       "      <td>남자 프로배구 첫 외국인 사령탑 탄생</td>\n",
       "      <td>5</td>\n",
       "    </tr>\n",
       "  </tbody>\n",
       "</table>\n",
       "</div>"
      ],
      "text/plain": [
       "                     text  target\n",
       "601  남자 프로배구 첫 외국인 사령탑 탄생       5\n",
       "623  남자 프로배구 첫 외국인 사령탑 탄생       5"
      ]
     },
     "execution_count": 55,
     "metadata": {},
     "output_type": "execute_result"
    }
   ],
   "source": [
    "x[x.text=='남자 프로배구 첫 외국인 사령탑 탄생']\n"
   ]
  }
 ],
 "metadata": {
  "kernelspec": {
   "display_name": "base",
   "language": "python",
   "name": "python3"
  },
  "language_info": {
   "codemirror_mode": {
    "name": "ipython",
    "version": 3
   },
   "file_extension": ".py",
   "mimetype": "text/x-python",
   "name": "python",
   "nbconvert_exporter": "python",
   "pygments_lexer": "ipython3",
   "version": "3.8.5"
  }
 },
 "nbformat": 4,
 "nbformat_minor": 2
}
